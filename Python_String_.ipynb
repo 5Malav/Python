{
  "nbformat": 4,
  "nbformat_minor": 0,
  "metadata": {
    "colab": {
      "provenance": []
    },
    "kernelspec": {
      "name": "python3",
      "display_name": "Python 3"
    },
    "language_info": {
      "name": "python"
    }
  },
  "cells": [
    {
      "cell_type": "markdown",
      "source": [
        "**Intialize a string**"
      ],
      "metadata": {
        "id": "EggOhnIswS_p"
      }
    },
    {
      "cell_type": "code",
      "source": [
        "#print multiple lines\n",
        "\n",
        "s=\"\"\"\n",
        "      jquery exercise\n",
        "      Javascript tutorrial\n",
        "      Python Tutorial\"\"\"\n",
        "\n",
        "print(s)\n",
        "\n",
        "s1 =\" JQuery Exercise\\n Javascript Tutorial \\n Python Tutorial\"\n",
        "\n",
        "print(s1)"
      ],
      "metadata": {
        "colab": {
          "base_uri": "https://localhost:8080/"
        },
        "id": "jd82MW2qnd6f",
        "outputId": "f51edc12-f8d1-473e-8f93-f80994d893a3"
      },
      "execution_count": 11,
      "outputs": [
        {
          "output_type": "stream",
          "name": "stdout",
          "text": [
            "      \n",
            "      jquery exercise\n",
            "      Javascript tutorrial\n",
            "      Python Tutorial\n",
            " JQuery Exercise\n",
            " Javascript Tutorial \n",
            " Python Tutorial\n"
          ]
        }
      ]
    },
    {
      "cell_type": "markdown",
      "source": [
        "**Access character from string**"
      ],
      "metadata": {
        "id": "EJ3ooVOx0vzA"
      }
    },
    {
      "cell_type": "code",
      "source": [
        "a=\"Python String\"\n",
        "print(a)\n",
        "\n",
        "b=a[2]\n",
        "print(b)\n",
        "\n",
        "b1=a[4+3]\n",
        "print(b1)\n",
        "\n",
        "b2=a[-1]\n",
        "print(b2)\n",
        "\n",
        "b3=a[-2]\n",
        "print(b3)"
      ],
      "metadata": {
        "colab": {
          "base_uri": "https://localhost:8080/"
        },
        "id": "48eSx0Djnd3p",
        "outputId": "cd0ab4e5-c896-4565-9cf5-316486f77386"
      },
      "execution_count": 18,
      "outputs": [
        {
          "output_type": "stream",
          "name": "stdout",
          "text": [
            "Python String\n",
            "t\n",
            "S\n",
            "g\n",
            "n\n"
          ]
        }
      ]
    },
    {
      "cell_type": "markdown",
      "source": [
        "**Python Strings are immutable**\n",
        "\n",
        "--> Python strings are \"immutable\" which means they cannot be changed after they are created.\n",
        "\n",
        "-->Therefore we cannot use [] operators on the left side of an assignment\n",
        "\n",
        "-->we can create a new string that is a variation of the original."
      ],
      "metadata": {
        "id": "StPKCMegJb7h"
      }
    },
    {
      "cell_type": "code",
      "source": [
        "a=\"Python\"\n",
        "\n",
        "b=\"x\"+a[1:]\n",
        "print(b)\n",
        "\n",
        "print(a)"
      ],
      "metadata": {
        "colab": {
          "base_uri": "https://localhost:8080/"
        },
        "id": "zf0EP3rcnd1L",
        "outputId": "ad81fc66-20b7-4b2b-a616-edaf5666f140"
      },
      "execution_count": 20,
      "outputs": [
        {
          "output_type": "stream",
          "name": "stdout",
          "text": [
            "xython\n",
            "Python\n"
          ]
        }
      ]
    },
    {
      "cell_type": "markdown",
      "source": [
        "**Python String concatenation**"
      ],
      "metadata": {
        "id": "0k3KrXIrLIn4"
      }
    },
    {
      "cell_type": "code",
      "source": [
        "a=\"Python\" + \" String\"\n",
        "print(a)\n",
        "\n",
        "b1=\"Java\"\n",
        "b2=\" sDeveloper\"\n",
        "\n",
        "b1+=b2\n",
        "print(b1)\n",
        "\n",
        "#\"*\" operator\n",
        "\n",
        "a1=\"Python\"+\" String\"\n",
        "b3=\"< \"+ a1*2 +\" >\"\n",
        "print(b3)"
      ],
      "metadata": {
        "colab": {
          "base_uri": "https://localhost:8080/"
        },
        "id": "lXMW_lAtndym",
        "outputId": "97523c79-f587-46f4-87ab-5ef0f159a638"
      },
      "execution_count": 28,
      "outputs": [
        {
          "output_type": "stream",
          "name": "stdout",
          "text": [
            "Python String\n",
            "Java sDeveloper\n",
            "< Python StringPython String >\n"
          ]
        }
      ]
    },
    {
      "cell_type": "markdown",
      "source": [
        "**String Length**"
      ],
      "metadata": {
        "id": "V2UmYaGYYZo4"
      }
    },
    {
      "cell_type": "code",
      "source": [
        "a=\"Python String\"\n",
        "len(a)\n",
        "a[12]"
      ],
      "metadata": {
        "colab": {
          "base_uri": "https://localhost:8080/",
          "height": 36
        },
        "id": "bT-f4Su_ndv9",
        "outputId": "f0845950-3f9c-4eed-c50d-1d6a24718f1e"
      },
      "execution_count": 30,
      "outputs": [
        {
          "output_type": "execute_result",
          "data": {
            "text/plain": [
              "'g'"
            ],
            "application/vnd.google.colaboratory.intrinsic+json": {
              "type": "string"
            }
          },
          "metadata": {},
          "execution_count": 30
        }
      ]
    },
    {
      "cell_type": "markdown",
      "source": [
        "***Traverse string with while or for loop***\n",
        "\n",
        "--> A lot of computations involve processing a string character by character at a time.\n",
        "\n",
        "-->They start at the beginning select each character in turn do somethig to it and continue until the end.\n",
        "\n",
        "--> this pattern of processing is called a traversal.\n",
        "\n",
        "-->one can traverse a string with while or for loop."
      ],
      "metadata": {
        "id": "uM1vaQ4hy7Ia"
      }
    },
    {
      "cell_type": "code",
      "source": [
        "a=\"string\"\n",
        "\n",
        "i=0\n",
        "\n",
        "while i <len(a):\n",
        "  c=a[i]\n",
        "  print(c)\n",
        "  i=i+1\n"
      ],
      "metadata": {
        "colab": {
          "base_uri": "https://localhost:8080/"
        },
        "id": "GsVZjEFWy5LS",
        "outputId": "19948686-80c3-4e52-d8d2-d3dd59af9947"
      },
      "execution_count": 1,
      "outputs": [
        {
          "output_type": "stream",
          "name": "stdout",
          "text": [
            "s\n",
            "t\n",
            "r\n",
            "i\n",
            "n\n",
            "g\n"
          ]
        }
      ]
    },
    {
      "cell_type": "markdown",
      "source": [
        "*** for loop**"
      ],
      "metadata": {
        "id": "5GidjLYg0Er9"
      }
    },
    {
      "cell_type": "code",
      "source": [
        "a=\"python\"\n",
        "i=0\n",
        "\n",
        "new=\" \"\n",
        "\n",
        "for i in range(0,len(a)):\n",
        "\n",
        "  b=a[i]\n",
        "\n",
        "  new= new+b\n",
        "  i=i+1\n",
        "\n",
        "  print(b)\n",
        "\n",
        "  print(new)"
      ],
      "metadata": {
        "colab": {
          "base_uri": "https://localhost:8080/"
        },
        "id": "yZHlV__E0B-o",
        "outputId": "28ee537d-ee12-43fa-9496-d9fc30720b11"
      },
      "execution_count": 2,
      "outputs": [
        {
          "output_type": "stream",
          "name": "stdout",
          "text": [
            "p\n",
            " p\n",
            "y\n",
            " py\n",
            "t\n",
            " pyt\n",
            "h\n",
            " pyth\n",
            "o\n",
            " pytho\n",
            "n\n",
            " python\n"
          ]
        }
      ]
    },
    {
      "cell_type": "markdown",
      "source": [
        "***string slices***\n",
        "\n",
        "-->A segment of a string is called a \"Slice\". The slice syntax is used to get sub part of a string.\n",
        "\n",
        "--> The slice s[start:end] is the element begininning at the\n",
        "start(p) and extending up to but not including end(q).\n",
        "\n",
        "--> The operator[p:q] return the part of the string from the pth character including the fist but excluding the last.\n",
        "\n",
        "--> If we omit the 1st index(before the colon) the slice starts at the begininng of the string.\n",
        "\n",
        "--> If you omit the 2nd indxed the slice goes to the end of the string.\n",
        "\n",
        "--> If the first index is > than or equal to second the result is an empty. string represented by two quatation marks.\n"
      ],
      "metadata": {
        "id": "togz2ZgZ1NRA"
      }
    },
    {
      "cell_type": "code",
      "source": [
        "s=\"Python\"\n",
        "\n",
        "print(s[0:4])\n",
        "\n",
        "print(\"-------\")\n",
        "\n",
        "print(s[1:])\n",
        "\n",
        "print(\"-------\")\n",
        "\n",
        "print(s[:])\n",
        "\n",
        "print(\"-------\")\n",
        "\n",
        "print(s[1:100])\n",
        "\n",
        "print(\"---------------------\")\n",
        "\n",
        "print(s[-1])\n",
        "\n",
        "print(\"------\")\n",
        "\n",
        "print(s[-4])\n",
        "\n",
        "print(\"-------\")\n",
        "\n",
        "print(s[:-3])\n",
        "\n",
        "print(\"--------\")\n",
        "\n",
        "print(s[-3:])"
      ],
      "metadata": {
        "colab": {
          "base_uri": "https://localhost:8080/"
        },
        "id": "QQarDUVW0B44",
        "outputId": "b717c124-e86d-4981-e609-f7c060acd1fd"
      },
      "execution_count": 5,
      "outputs": [
        {
          "output_type": "stream",
          "name": "stdout",
          "text": [
            "Pyth\n",
            "-------\n",
            "ython\n",
            "-------\n",
            "Python\n",
            "-------\n",
            "ython\n",
            "---------------------\n",
            "n\n",
            "------\n",
            "t\n",
            "-------\n",
            "Pyt\n",
            "--------\n",
            "hon\n"
          ]
        }
      ]
    }
  ]
}