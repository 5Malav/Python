{
  "nbformat": 4,
  "nbformat_minor": 0,
  "metadata": {
    "colab": {
      "provenance": []
    },
    "kernelspec": {
      "name": "python3",
      "display_name": "Python 3"
    },
    "language_info": {
      "name": "python"
    }
  },
  "cells": [
    {
      "cell_type": "markdown",
      "source": [
        "Tuples-->\n",
        "\n",
        "--> A tuple is a container which holds a series of comma separated values(items or elements) between parenthis such as an(x,y)\n",
        "\n",
        "--> Tuples are like lists, except they are immutable (i.e. you cannot change its content once created) and can hold mix data types\n",
        "\n",
        "--> Tuples play a sort of \"struct\" role in python- a convenient way to pass around a little logical"
      ],
      "metadata": {
        "id": "_F6WTtFl5YmK"
      }
    },
    {
      "cell_type": "markdown",
      "source": [
        "**Create a Tuple**"
      ],
      "metadata": {
        "id": "IgzGu8daBj8F"
      }
    },
    {
      "cell_type": "code",
      "source": [
        "#create an empty tuple\n",
        "\n",
        "tup=()\n",
        "print(tup)\n",
        "\n",
        "#create a tuple with different data types\n",
        "\n",
        "tup1=('tuple','false',3.2,1)\n",
        "print(tup1)\n",
        "\n",
        "#create a tuple of one item notation without parenthesis\n",
        "tup2=4,\n",
        "print(tup2)\n",
        "\n",
        "#create a tuple from iterable object\n",
        "tup3=tuple([False,True])\n",
        "print(tup3)"
      ],
      "metadata": {
        "colab": {
          "base_uri": "https://localhost:8080/"
        },
        "id": "vOJrZM9i-wvN",
        "outputId": "a0dd02f7-1e26-4a64-ccf2-343acfab807a"
      },
      "execution_count": null,
      "outputs": [
        {
          "output_type": "stream",
          "name": "stdout",
          "text": [
            "()\n",
            "('tuple', 'false', 3.2, 1)\n",
            "(4,)\n",
            "(False, True)\n"
          ]
        }
      ]
    },
    {
      "cell_type": "markdown",
      "source": [
        "**Check if element exist**"
      ],
      "metadata": {
        "id": "duxK0nKwBpOh"
      }
    },
    {
      "cell_type": "code",
      "source": [
        "tup=(\"w\",3,\"r\",\"s\")\n",
        "\n",
        "print(\"r\" in tup)\n",
        "\n",
        "print(\"m\" in tup)"
      ],
      "metadata": {
        "colab": {
          "base_uri": "https://localhost:8080/"
        },
        "id": "3QgLiIZI-wtC",
        "outputId": "328654c8-8562-4dc8-db55-e2e0d35f82a6"
      },
      "execution_count": null,
      "outputs": [
        {
          "output_type": "stream",
          "name": "stdout",
          "text": [
            "True\n",
            "False\n"
          ]
        }
      ]
    },
    {
      "cell_type": "markdown",
      "source": [
        "**Get an element from Tuple**"
      ],
      "metadata": {
        "id": "YuE0XIE_CM0Z"
      }
    },
    {
      "cell_type": "code",
      "source": [
        "tup=(\"m\",1,2,\"a\",3,4,\"l\",5,6,\"a\",7,8,\"v\")\n",
        "print(tup)\n",
        "\n",
        "print(tup[0])\n",
        "\n",
        "print(tup[5])\n",
        "\n",
        "print(tup[-1])\n",
        "\n",
        "print(tup[-2])"
      ],
      "metadata": {
        "colab": {
          "base_uri": "https://localhost:8080/"
        },
        "id": "6vCFPVzr-wqy",
        "outputId": "469c3465-f72a-4d99-cd03-8806840ccfde"
      },
      "execution_count": null,
      "outputs": [
        {
          "output_type": "stream",
          "name": "stdout",
          "text": [
            "('m', 1, 2, 'a', 3, 4, 'l', 5, 6, 'a', 7, 8, 'v')\n",
            "m\n",
            "4\n",
            "v\n",
            "8\n"
          ]
        }
      ]
    },
    {
      "cell_type": "markdown",
      "source": [
        "**List to Tuple**"
      ],
      "metadata": {
        "id": "ewSiZUtAEKk4"
      }
    },
    {
      "cell_type": "code",
      "source": [
        "ls=[1,2,3,4,5]\n",
        "\n",
        "tup=tuple(ls)\n",
        "print(tup)"
      ],
      "metadata": {
        "colab": {
          "base_uri": "https://localhost:8080/"
        },
        "id": "S2hcp8Iv-woI",
        "outputId": "29abc680-ac9d-495e-e030-d96eedcf6c9d"
      },
      "execution_count": null,
      "outputs": [
        {
          "output_type": "stream",
          "name": "stdout",
          "text": [
            "(1, 2, 3, 4, 5)\n"
          ]
        }
      ]
    },
    {
      "cell_type": "markdown",
      "source": [
        "**Unpack a tuple in several variable***"
      ],
      "metadata": {
        "id": "r4qxWULJEXOv"
      }
    },
    {
      "cell_type": "code",
      "source": [
        "tup=1,2,3\n",
        "\n",
        "n1,n2,n3=tup\n",
        "#unpack a tuple in variable\n",
        "print(n1,n2,n3)\n",
        "\n",
        "#the number of variable must be equal to number of items\n",
        "\n",
        "n1,n2,n3,n4=tup\n",
        "print(n1,n2,n3,n4)"
      ],
      "metadata": {
        "colab": {
          "base_uri": "https://localhost:8080/",
          "height": 217
        },
        "id": "6_sCPk82-wlW",
        "outputId": "eba8f293-b1a8-49d3-ddbc-b43e9d791b62"
      },
      "execution_count": null,
      "outputs": [
        {
          "output_type": "stream",
          "name": "stdout",
          "text": [
            "1 2 3\n"
          ]
        },
        {
          "output_type": "error",
          "ename": "ValueError",
          "evalue": "not enough values to unpack (expected 4, got 3)",
          "traceback": [
            "\u001b[0;31m---------------------------------------------------------------------------\u001b[0m",
            "\u001b[0;31mValueError\u001b[0m                                Traceback (most recent call last)",
            "\u001b[0;32m<ipython-input-3-bd944be49e59>\u001b[0m in \u001b[0;36m<cell line: 9>\u001b[0;34m()\u001b[0m\n\u001b[1;32m      7\u001b[0m \u001b[0;31m#the number of variable must be equal to number of items\u001b[0m\u001b[0;34m\u001b[0m\u001b[0;34m\u001b[0m\u001b[0m\n\u001b[1;32m      8\u001b[0m \u001b[0;34m\u001b[0m\u001b[0m\n\u001b[0;32m----> 9\u001b[0;31m \u001b[0mn1\u001b[0m\u001b[0;34m,\u001b[0m\u001b[0mn2\u001b[0m\u001b[0;34m,\u001b[0m\u001b[0mn3\u001b[0m\u001b[0;34m,\u001b[0m\u001b[0mn4\u001b[0m\u001b[0;34m=\u001b[0m\u001b[0mtup\u001b[0m\u001b[0;34m\u001b[0m\u001b[0;34m\u001b[0m\u001b[0m\n\u001b[0m\u001b[1;32m     10\u001b[0m \u001b[0mprint\u001b[0m\u001b[0;34m(\u001b[0m\u001b[0mn1\u001b[0m\u001b[0;34m,\u001b[0m\u001b[0mn2\u001b[0m\u001b[0;34m,\u001b[0m\u001b[0mn3\u001b[0m\u001b[0;34m,\u001b[0m\u001b[0mn4\u001b[0m\u001b[0;34m)\u001b[0m\u001b[0;34m\u001b[0m\u001b[0;34m\u001b[0m\u001b[0m\n",
            "\u001b[0;31mValueError\u001b[0m: not enough values to unpack (expected 4, got 3)"
          ]
        }
      ]
    },
    {
      "cell_type": "markdown",
      "source": [
        "**Add items in python tuple**"
      ],
      "metadata": {
        "id": "X9a_c1F6ioaT"
      }
    },
    {
      "cell_type": "code",
      "source": [
        "tup=(1,2,3,4,5)\n",
        "print(tup)\n",
        "\n",
        "#tuples are immutable so you can not add new elements.\n",
        "#Using merge of tuples with the + opertor you add an element and it will create\n",
        "# a new tuple\n",
        "\n",
        "tup1= tup+(9,)\n",
        "print(tup1)\n",
        "\n",
        "#adding items in a specific index\n",
        "tup2=tup[:5]+(10,20,30)+tup1[:5]\n",
        "print(tup2)\n",
        "\n",
        "#converting tuple to list\n",
        "lstup=list(tup)\n",
        "print(lstup)\n",
        "lstup.append(10)\n",
        "print(lstup)"
      ],
      "metadata": {
        "id": "1774ZrgT-wi0",
        "colab": {
          "base_uri": "https://localhost:8080/"
        },
        "outputId": "a14bc441-ef0e-4117-e181-4be77595e9ce"
      },
      "execution_count": null,
      "outputs": [
        {
          "output_type": "stream",
          "name": "stdout",
          "text": [
            "(1, 2, 3, 4, 5)\n",
            "(1, 2, 3, 4, 5, 9)\n",
            "(1, 2, 3, 4, 5, 10, 20, 30, 1, 2, 3, 4, 5)\n",
            "[1, 2, 3, 4, 5]\n",
            "[1, 2, 3, 4, 5, 10]\n"
          ]
        }
      ]
    },
    {
      "cell_type": "markdown",
      "source": [
        "**Clon a Tuple**"
      ],
      "metadata": {
        "id": "DIw0EO9aBwsv"
      }
    },
    {
      "cell_type": "code",
      "source": [
        "from copy import deepcopy\n",
        "\n",
        "tup=(\"hello\",5,[],True)\n",
        "print(tup)\n",
        "\n",
        "#make a copy of tuple using deepcopy() function\n",
        "\n",
        "tup_clon=deepcopy(tup)\n",
        "print(tup_clon)\n",
        "tup_clon[2].append(10)\n",
        "print(tup_clon)\n"
      ],
      "metadata": {
        "id": "__0Omkab-wf4",
        "colab": {
          "base_uri": "https://localhost:8080/"
        },
        "outputId": "ef57cdf6-35f1-4988-c26d-c33fbbb1b7db"
      },
      "execution_count": null,
      "outputs": [
        {
          "output_type": "stream",
          "name": "stdout",
          "text": [
            "('hello', 5, [], True)\n",
            "('hello', 5, [], True)\n",
            "('hello', 5, [10], True)\n"
          ]
        }
      ]
    },
    {
      "cell_type": "markdown",
      "source": [
        "**Find out repetitive items**"
      ],
      "metadata": {
        "id": "2SWvbfoSDZ14"
      }
    },
    {
      "cell_type": "code",
      "source": [
        "tup=(1,2,3,4,4,5,5,5,6,6,6,6,7,7)\n",
        "\n",
        "count_tup=tup.count(6)\n",
        "print(count_tup)\n",
        "\n",
        "count_tup1=tup.count(5)\n",
        "print(count_tup1)\n"
      ],
      "metadata": {
        "id": "mIlqcKvj-wZ0",
        "colab": {
          "base_uri": "https://localhost:8080/"
        },
        "outputId": "c8553bbe-8b58-46ac-b988-7ffca2ede094"
      },
      "execution_count": null,
      "outputs": [
        {
          "output_type": "stream",
          "name": "stdout",
          "text": [
            "4\n",
            "3\n"
          ]
        }
      ]
    },
    {
      "cell_type": "markdown",
      "source": [
        "**Remove an item from Tuple**"
      ],
      "metadata": {
        "id": "Dv5Y1AjsGF8I"
      }
    },
    {
      "cell_type": "code",
      "source": [
        "tup=(1,2,3,\"m\",\"a\")\n",
        "print(tup)\n",
        "\n",
        "print(\"***************\")\n",
        "#using + we can remove or add items from tuple\n",
        "tup1=tup[:3]+tup[4:]\n",
        "print(tup1)\n",
        "\n",
        "#converting tuple to list\n",
        "lstup=list(tup)\n",
        "print(lstup)\n",
        "\n",
        "#use a different way to remove item\n",
        "lstup1=lstup.remove(1)\n",
        "print(lstup)\n",
        "\n"
      ],
      "metadata": {
        "id": "RkrS3Qh-y7Qt",
        "colab": {
          "base_uri": "https://localhost:8080/"
        },
        "outputId": "26a8cd51-cabc-4761-c6ff-54b64ad31ccb"
      },
      "execution_count": null,
      "outputs": [
        {
          "output_type": "stream",
          "name": "stdout",
          "text": [
            "(1, 2, 3, 'm', 'a')\n",
            "***************\n",
            "(1, 2, 3, 'a')\n",
            "[1, 2, 3, 'm', 'a']\n",
            "[2, 3, 'm', 'a']\n"
          ]
        }
      ]
    },
    {
      "cell_type": "markdown",
      "source": [
        "**Slice a Tuple**"
      ],
      "metadata": {
        "id": "Fmh15u5uH3z0"
      }
    },
    {
      "cell_type": "code",
      "source": [
        "tup=(1,2,3,4,5,6,7)\n",
        "\n",
        "#use tuple[start:stop] the start index is inclusive and stop index is exclusive\n",
        "\n",
        "tup_slice=tup[2:5]\n",
        "print(tup_slice)\n",
        "\n",
        "#if the start index is not defined is taken from the beginning if tuple\n",
        "tup_slice2=tup[:5]\n",
        "print(tup_slice2)\n",
        "\n",
        "#if the end index is not defined is taken until the end of tuple\n",
        "tup_slice3=tup[3:]\n",
        "print(tup_slice3)\n",
        "\n",
        "#if neither is defined , it returns the all elements of tuple\n",
        "tup_slice4=tup[:]\n",
        "print(tup_slice4)\n",
        "\n",
        "#indexes can be defined with negative values.\n",
        "tup_slice5=tup[-4:-1]\n",
        "print(tup_slice5)\n",
        "\n"
      ],
      "metadata": {
        "id": "sxQUzxGjy7GJ",
        "colab": {
          "base_uri": "https://localhost:8080/"
        },
        "outputId": "883118cd-7f29-4ff0-9264-8784d40facec"
      },
      "execution_count": null,
      "outputs": [
        {
          "output_type": "stream",
          "name": "stdout",
          "text": [
            "(3, 4, 5)\n",
            "(1, 2, 3, 4, 5)\n",
            "(4, 5, 6, 7)\n",
            "(1, 2, 3, 4, 5, 6, 7)\n",
            "(4, 5, 6)\n"
          ]
        }
      ]
    },
    {
      "cell_type": "markdown",
      "source": [
        "**Find the index of an item of Tuple**"
      ],
      "metadata": {
        "id": "akDJe-pFVons"
      }
    },
    {
      "cell_type": "code",
      "source": [
        "tup=tuple(\"index tuple\")\n",
        "print(tup)\n",
        "\n",
        "#get an index of first item whose value is passed as parameter\n",
        "tup_index=tup.index(\"p\")\n",
        "print(tup_index)\n",
        "\n",
        "#define the index from which you want you search\n",
        "\n",
        "tup_index1=tup.index(\"p\",5)\n",
        "print(tup_index1)\n",
        "\n",
        "#define a segment of the tuple to be searched\n",
        "tup_index2=tup.index(\"p\",6,9)\n",
        "print(tup_index2)\n",
        "\n",
        "#if item does not exist then it will give an error\n",
        "\n",
        "tup_index3=tup.index(\"m\")\n",
        "print(tup_index3)"
      ],
      "metadata": {
        "id": "fO1ijBoVy63N",
        "colab": {
          "base_uri": "https://localhost:8080/",
          "height": 270
        },
        "outputId": "f5e50dcd-7003-46d8-c169-36e5c425e817"
      },
      "execution_count": null,
      "outputs": [
        {
          "output_type": "stream",
          "name": "stdout",
          "text": [
            "('i', 'n', 'd', 'e', 'x', ' ', 't', 'u', 'p', 'l', 'e')\n",
            "8\n",
            "8\n",
            "8\n"
          ]
        },
        {
          "output_type": "error",
          "ename": "ValueError",
          "evalue": "tuple.index(x): x not in tuple",
          "traceback": [
            "\u001b[0;31m---------------------------------------------------------------------------\u001b[0m",
            "\u001b[0;31mValueError\u001b[0m                                Traceback (most recent call last)",
            "\u001b[0;32m<ipython-input-50-cedea38c9482>\u001b[0m in \u001b[0;36m<cell line: 19>\u001b[0;34m()\u001b[0m\n\u001b[1;32m     17\u001b[0m \u001b[0;31m#if item does not exist then it will give an error\u001b[0m\u001b[0;34m\u001b[0m\u001b[0;34m\u001b[0m\u001b[0m\n\u001b[1;32m     18\u001b[0m \u001b[0;34m\u001b[0m\u001b[0m\n\u001b[0;32m---> 19\u001b[0;31m \u001b[0mtup_index3\u001b[0m\u001b[0;34m=\u001b[0m\u001b[0mtup\u001b[0m\u001b[0;34m.\u001b[0m\u001b[0mindex\u001b[0m\u001b[0;34m(\u001b[0m\u001b[0;34m\"m\"\u001b[0m\u001b[0;34m)\u001b[0m\u001b[0;34m\u001b[0m\u001b[0;34m\u001b[0m\u001b[0m\n\u001b[0m\u001b[1;32m     20\u001b[0m \u001b[0mprint\u001b[0m\u001b[0;34m(\u001b[0m\u001b[0mtup_index3\u001b[0m\u001b[0;34m)\u001b[0m\u001b[0;34m\u001b[0m\u001b[0;34m\u001b[0m\u001b[0m\n",
            "\u001b[0;31mValueError\u001b[0m: tuple.index(x): x not in tuple"
          ]
        }
      ]
    },
    {
      "cell_type": "markdown",
      "source": [
        "**The size of a Tuple**"
      ],
      "metadata": {
        "id": "YdsmZuHdeVeb"
      }
    },
    {
      "cell_type": "code",
      "source": [
        "tup=tuple(\"w3resoruce\")\n",
        "print(tup)\n",
        "\n",
        "#use len() function to know length of tuple\n",
        "print(len(tup))"
      ],
      "metadata": {
        "id": "gCfiZwswy60b",
        "colab": {
          "base_uri": "https://localhost:8080/"
        },
        "outputId": "3c2238aa-dff6-48f4-a561-5cb16d5c1c69"
      },
      "execution_count": null,
      "outputs": [
        {
          "output_type": "stream",
          "name": "stdout",
          "text": [
            "('w', '3', 'r', 'e', 's', 'o', 'r', 'u', 'c', 'e')\n",
            "10\n"
          ]
        }
      ]
    },
    {
      "cell_type": "markdown",
      "source": [
        "**how to use + and * in Tuple**"
      ],
      "metadata": {
        "id": "TGBT7HvgeoH-"
      }
    },
    {
      "cell_type": "code",
      "source": [
        "# * operator\n",
        "tup=tuple([5])\n",
        "print(tup*3)\n",
        "\n",
        "tup1=tuple([1,2,3])\n",
        "print(tup1*3)\n",
        "\n",
        "\n",
        "# + operator\n",
        "\n",
        "#create 3 tuples\n",
        "\n",
        "tup2=(1,2,3,4,5)\n",
        "tup3=tuple(\"w3resouce\")\n",
        "tup4=(True,False)\n",
        "\n",
        "tup_=tup2+tup3+tup4\n",
        "print(tup_)\n",
        "\n",
        "#slice of a tuple using step parameter :\n",
        "#start:stop:step\n",
        "\n",
        "#return a tuple with jump every 3 items\n",
        "\n",
        "_slice=tup_[::4]#start from 1 and from 1 it counts 4 steps including 1 so\n",
        "#after 1, 5 is next element, after 5 \"e\"etc..\n",
        "print(_slice)\n",
        "\n",
        "#when step is negative jumpt is made back\n",
        "_slice1=tup_[9:3:-4]\n",
        "print(_slice1)"
      ],
      "metadata": {
        "id": "04we4W3Yy6vq",
        "colab": {
          "base_uri": "https://localhost:8080/"
        },
        "outputId": "53e66fda-496b-4518-e5f7-2c992fd30b20"
      },
      "execution_count": null,
      "outputs": [
        {
          "output_type": "stream",
          "name": "stdout",
          "text": [
            "(5, 5, 5)\n",
            "(1, 2, 3, 1, 2, 3, 1, 2, 3)\n",
            "(1, 2, 3, 4, 5, 'w', '3', 'r', 'e', 's', 'o', 'u', 'c', 'e', True, False)\n",
            "(1, 5, 'e', 'c')\n",
            "('s', 'w')\n"
          ]
        }
      ]
    },
    {
      "cell_type": "code",
      "source": [],
      "metadata": {
        "id": "4uF8JM_Iy6m_"
      },
      "execution_count": null,
      "outputs": []
    },
    {
      "cell_type": "code",
      "source": [],
      "metadata": {
        "id": "NXZc4KL9HnlW"
      },
      "execution_count": null,
      "outputs": []
    },
    {
      "cell_type": "code",
      "source": [],
      "metadata": {
        "id": "sMYnt4RuHndt"
      },
      "execution_count": null,
      "outputs": []
    },
    {
      "cell_type": "code",
      "execution_count": null,
      "metadata": {
        "id": "ZJTYxEn6y26o"
      },
      "outputs": [],
      "source": []
    }
  ]
}