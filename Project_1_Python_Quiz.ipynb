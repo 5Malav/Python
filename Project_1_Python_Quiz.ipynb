{
  "nbformat": 4,
  "nbformat_minor": 0,
  "metadata": {
    "colab": {
      "provenance": []
    },
    "kernelspec": {
      "name": "python3",
      "display_name": "Python 3"
    },
    "language_info": {
      "name": "python"
    }
  },
  "cells": [
    {
      "cell_type": "code",
      "execution_count": 1,
      "metadata": {
        "colab": {
          "base_uri": "https://localhost:8080/"
        },
        "id": "P5fDpnixCcc7",
        "outputId": "6d8cb7b9-fe0f-40de-d5b2-06f96372050c"
      },
      "outputs": [
        {
          "output_type": "stream",
          "name": "stdout",
          "text": [
            "Welcome to my Project-1 Python quiz!\n",
            "Do you want to play? yes\n",
            "Okay! Let's play :)\n",
            "Python's name is inspired by.....? monty python\n",
            "Correct!!!\n",
            "Python does not need a.....? compiler\n",
            "Correct!!!\n",
            "The first python version released in .....? 1991\n",
            "Correct!!!\n",
            "Is python interpreted language.....? yes\n",
            "Correct!!!\n",
            "Is python open source language.....? yes\n",
            "Correct!!!\n",
            "You got 5 out of 5\n",
            "Percentage : 100.0 %.\n"
          ]
        }
      ],
      "source": [
        "print(\"Welcome to my Project-1 Python quiz!\")\n",
        "\n",
        "playing = input(\"Do you want to play? \")\n",
        "\n",
        "if playing.lower() != \"yes\":\n",
        "    quit()\n",
        "\n",
        "print(\"Okay! Let's play :)\")\n",
        "score=0\n",
        "\n",
        "answer=input(\"Python's name is inspired by.....? \")\n",
        "\n",
        "if answer.lower()==\"monty python\":\n",
        "  print(\"Correct!!!\")\n",
        "  score+=1\n",
        "else:\n",
        "  print(\"Wrong answer!!!\")\n",
        "\n",
        "answer=input(\"Python does not need a.....? \")\n",
        "\n",
        "if answer.lower()==\"compiler\":\n",
        "  print(\"Correct!!!\")\n",
        "  score+=1\n",
        "else:\n",
        "  print(\"Wrong answer!!!\")\n",
        "\n",
        "answer=input(\"The first python version released in .....? \")\n",
        "\n",
        "if answer.lower()==\"1991\":\n",
        "  print(\"Correct!!!\")\n",
        "  score+=1\n",
        "else:\n",
        "  print(\"Wrong answer!!!\")\n",
        "\n",
        "answer=input(\"Is python interpreted language.....? \")\n",
        "\n",
        "if answer.lower()==\"yes\":\n",
        "  print(\"Correct!!!\")\n",
        "  score+=1\n",
        "else:\n",
        "  print(\"Wrong answer!!!\")\n",
        "\n",
        "answer=input(\"Is python open source language.....? \")\n",
        "\n",
        "if answer.lower()==\"yes\":\n",
        "  print(\"Correct!!!\")\n",
        "  score+=1\n",
        "else:\n",
        "  print(\"Wrong answer!!!\")\n",
        "\n",
        "\n",
        "print(\"You got \" + str(score) + \" out of 5\")\n",
        "print(\"Percentage : \" +str((score/5)*100)+ \" %.\")"
      ]
    }
  ]
}