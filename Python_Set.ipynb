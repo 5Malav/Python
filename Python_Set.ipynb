{
  "nbformat": 4,
  "nbformat_minor": 0,
  "metadata": {
    "colab": {
      "provenance": []
    },
    "kernelspec": {
      "name": "python3",
      "display_name": "Python 3"
    },
    "language_info": {
      "name": "python"
    }
  },
  "cells": [
    {
      "cell_type": "markdown",
      "source": [
        "Set:-\n",
        "--> set is an unordered collection of distinct hashable objects.\n",
        "--> commonly used for membership testing, removing duplicate from a sequence and computing mathematical operations such as intersection, union, difference and symmetric difference."
      ],
      "metadata": {
        "id": "pJ8ApfPHV05e"
      }
    },
    {
      "cell_type": "markdown",
      "source": [
        "set:- its a mutable contents can be changed using methods like add() and remove()\n",
        "\n",
        "frozenset():-\n",
        "this type of set is not mutable and its content cannot be altered after it is created.\n",
        "\n",
        "it can be used as dictionary key or as an element of other set."
      ],
      "metadata": {
        "id": "iNVDWhdsd5ns"
      }
    },
    {
      "cell_type": "markdown",
      "source": [
        "**Contents**"
      ],
      "metadata": {
        "id": "yw1aVyKOeXIa"
      }
    },
    {
      "cell_type": "markdown",
      "source": [
        "**create a text in python**\n"
      ],
      "metadata": {
        "id": "0HVWG5Gmgwvk"
      }
    },
    {
      "cell_type": "code",
      "source": [
        "setx=set()\n",
        "print(setx)"
      ],
      "metadata": {
        "colab": {
          "base_uri": "https://localhost:8080/"
        },
        "id": "jsE1yR94gvNu",
        "outputId": "8936b4de-6c89-409f-8d51-fbb9ceb31e49"
      },
      "execution_count": null,
      "outputs": [
        {
          "output_type": "stream",
          "name": "stdout",
          "text": [
            "set()\n"
          ]
        }
      ]
    },
    {
      "cell_type": "code",
      "source": [
        "n=set([0,1,2,3,4,5])\n",
        "print(n)"
      ],
      "metadata": {
        "id": "cE-umlrr-QwD",
        "colab": {
          "base_uri": "https://localhost:8080/"
        },
        "outputId": "50825fe9-a923-4774-a91c-3e0312bb548a"
      },
      "execution_count": null,
      "outputs": [
        {
          "output_type": "stream",
          "name": "stdout",
          "text": [
            "{0, 1, 2, 3, 4, 5}\n"
          ]
        }
      ]
    },
    {
      "cell_type": "markdown",
      "source": [
        "**Iteration over set**"
      ],
      "metadata": {
        "id": "tY-WJJWrhJL1"
      }
    },
    {
      "cell_type": "code",
      "source": [
        "\"\"\"we can mover over each of the items in a set using a loop\"\"\"\n",
        "n=set([0,1,2,3,4,5])\n",
        "\n",
        "for i in n:\n",
        "  print(i)"
      ],
      "metadata": {
        "colab": {
          "base_uri": "https://localhost:8080/"
        },
        "id": "o1RfXqE1hHut",
        "outputId": "bba651cd-3d89-4f7e-ef73-e33c84ce5a12"
      },
      "execution_count": null,
      "outputs": [
        {
          "output_type": "stream",
          "name": "stdout",
          "text": [
            "0\n",
            "1\n",
            "2\n",
            "3\n",
            "4\n",
            "5\n"
          ]
        }
      ]
    },
    {
      "cell_type": "markdown",
      "source": [
        "**Add numbers in Python set**"
      ],
      "metadata": {
        "id": "lJstULtUhzNs"
      }
    },
    {
      "cell_type": "code",
      "source": [
        "#empty set\n",
        "\n",
        "color_set=set()\n",
        "\n",
        "#add a single member\n",
        "\n",
        "color_set.add(\"Red\")\n",
        "\n",
        "print(color_set)\n",
        "\n",
        "#add multiple items\n",
        "\n",
        "color_set.update([\"black\",\"white\"])\n",
        "print(color_set)"
      ],
      "metadata": {
        "id": "FVashkK2-RBi",
        "colab": {
          "base_uri": "https://localhost:8080/"
        },
        "outputId": "8e520de5-f0b1-4a62-8e91-54c41d903bc9"
      },
      "execution_count": null,
      "outputs": [
        {
          "output_type": "stream",
          "name": "stdout",
          "text": [
            "{'Red'}\n",
            "{'black', 'Red', 'white'}\n"
          ]
        }
      ]
    },
    {
      "cell_type": "markdown",
      "source": [
        "**Remove item from set**"
      ],
      "metadata": {
        "id": "7wltL1aVlVzP"
      }
    },
    {
      "cell_type": "code",
      "source": [
        "n=set([0,1,2,3,4,5])\n",
        "n.pop()\n",
        "print(n)#wil remove 0\n",
        "\n",
        "n.pop()\n",
        "print(n)#will remove 1\n",
        "\n",
        "#remove() function\n",
        "\n",
        "n=set([0,1,2,3,4,5])\n",
        "n.remove(0)\n",
        "print(n)\n",
        "\n",
        "#discard function\n",
        "\n",
        "n=set([0,1,2,3,4,5])\n",
        "n.discard(2)\n",
        "print(n)"
      ],
      "metadata": {
        "id": "1RVT2lgx-RIA",
        "colab": {
          "base_uri": "https://localhost:8080/"
        },
        "outputId": "b727ab23-2d45-4981-a19c-68dc49b950bf"
      },
      "execution_count": null,
      "outputs": [
        {
          "output_type": "stream",
          "name": "stdout",
          "text": [
            "{1, 2, 3, 4, 5}\n",
            "{2, 3, 4, 5}\n",
            "{1, 2, 3, 4, 5}\n",
            "{0, 1, 3, 4, 5}\n"
          ]
        }
      ]
    },
    {
      "cell_type": "markdown",
      "source": [
        "**Intersection of Set**"
      ],
      "metadata": {
        "id": "DhlaY5R8m0mk"
      }
    },
    {
      "cell_type": "code",
      "source": [
        "setx=set([\"white\",\"black\"])\n",
        "sety=set([\"black\",\"blue\"])\n",
        "\n",
        "setz=setx&sety\n",
        "print(setz)"
      ],
      "metadata": {
        "id": "n3hDqM-z-SYl",
        "colab": {
          "base_uri": "https://localhost:8080/"
        },
        "outputId": "dac6dde7-fdb6-40c4-bbeb-2bac8edb4f15"
      },
      "execution_count": null,
      "outputs": [
        {
          "output_type": "stream",
          "name": "stdout",
          "text": [
            "{'black'}\n"
          ]
        }
      ]
    },
    {
      "cell_type": "markdown",
      "source": [
        "**Union of sets**"
      ],
      "metadata": {
        "id": "l2GM2ltQeKgZ"
      }
    },
    {
      "cell_type": "code",
      "source": [
        "setx=set([\"black\",\"white\"])\n",
        "sety=set([\"blue\",\"red\"])\n",
        "\n",
        "setz=setx|sety\n",
        "print(setz)"
      ],
      "metadata": {
        "id": "wnK1h-L3-ShK",
        "colab": {
          "base_uri": "https://localhost:8080/"
        },
        "outputId": "6182f59a-9d75-40ca-d18f-bdf49d57755b"
      },
      "execution_count": null,
      "outputs": [
        {
          "output_type": "stream",
          "name": "stdout",
          "text": [
            "{'black', 'red', 'white', 'blue'}\n"
          ]
        }
      ]
    },
    {
      "cell_type": "markdown",
      "source": [
        "**Set difference**"
      ],
      "metadata": {
        "id": "xGwiY8LksBcX"
      }
    },
    {
      "cell_type": "code",
      "source": [
        "setx=set([\"black\",\"white\"])\n",
        "sety=set([\"white\",\"red\"])\n",
        "\n",
        "setz=setx-sety\n",
        "print(setz)#will print items which are not in setx"
      ],
      "metadata": {
        "id": "F6WhBaue-Sp8",
        "colab": {
          "base_uri": "https://localhost:8080/"
        },
        "outputId": "b952e046-36f9-4b3d-d43b-03e3b7f08d55"
      },
      "execution_count": null,
      "outputs": [
        {
          "output_type": "stream",
          "name": "stdout",
          "text": [
            "{'black'}\n"
          ]
        }
      ]
    },
    {
      "cell_type": "markdown",
      "source": [
        "**Symmetric difference**"
      ],
      "metadata": {
        "id": "SZ4DtBFtuFhK"
      }
    },
    {
      "cell_type": "code",
      "source": [
        "setx=set([\"black\",\"white\"])\n",
        "sety=set([\"white\",\"red\"])\n",
        "\n",
        "setz=setx^sety\n",
        "print(setz)#will not print common items from both sets"
      ],
      "metadata": {
        "colab": {
          "base_uri": "https://localhost:8080/"
        },
        "id": "WrqEcKexhQ0v",
        "outputId": "7d2be5ce-3207-4da5-c9a0-ffd7580db01a"
      },
      "execution_count": null,
      "outputs": [
        {
          "output_type": "stream",
          "name": "stdout",
          "text": [
            "{'black', 'red'}\n"
          ]
        }
      ]
    },
    {
      "cell_type": "markdown",
      "source": [
        "**Subset and Superset**"
      ],
      "metadata": {
        "id": "cob16FHyugtQ"
      }
    },
    {
      "cell_type": "code",
      "source": [
        "setx=([\"black\",\"white\"])\n",
        "sety=([\"white\",\"red\"])\n",
        "\n",
        "issubset=setx<=sety\n",
        "print(issubset)\n",
        "\n",
        "issubset1=sety<=setx\n",
        "print(issubset1)\n",
        "\n",
        "issuperset=setx>=sety\n",
        "print(issuperset)\n",
        "\n",
        "setw=set([\"black\",\"white\",\"blue\",\"red\"])\n",
        "sety=set([\"blue\",\"red\"])\n",
        "\n",
        "issubset=setw<=sety\n",
        "print(issubset)\n",
        "\n",
        "issuperset=setw>=sety\n",
        "print(issuperset)"
      ],
      "metadata": {
        "colab": {
          "base_uri": "https://localhost:8080/"
        },
        "id": "WmMBrK_FhQyY",
        "outputId": "3407cdbb-ca22-46ba-89a3-544eecdd0a60"
      },
      "execution_count": null,
      "outputs": [
        {
          "output_type": "stream",
          "name": "stdout",
          "text": [
            "True\n",
            "False\n",
            "False\n",
            "False\n",
            "True\n"
          ]
        }
      ]
    },
    {
      "cell_type": "markdown",
      "source": [
        "**Shallow copy of sets**\n"
      ],
      "metadata": {
        "id": "8qbeGIvrw7lq"
      }
    },
    {
      "cell_type": "code",
      "source": [
        "setx= set([\"black\",\"white\"])\n",
        "\n",
        "setz=setx.copy()\n",
        "print(setz)"
      ],
      "metadata": {
        "colab": {
          "base_uri": "https://localhost:8080/"
        },
        "id": "YH_ZNLc7hQvh",
        "outputId": "1ee23a2a-173b-4e03-ca9c-6a0916780ff4"
      },
      "execution_count": null,
      "outputs": [
        {
          "output_type": "stream",
          "name": "stdout",
          "text": [
            "{'black', 'white'}\n"
          ]
        }
      ]
    },
    {
      "cell_type": "markdown",
      "source": [
        "**Clear set**"
      ],
      "metadata": {
        "id": "GgCOkljpxjcJ"
      }
    },
    {
      "cell_type": "code",
      "source": [
        "setx=set([\"white\",\"black\",\"blue\",\"red\"])\n",
        "\n",
        "sety=setx.clear()\n",
        "print(sety)"
      ],
      "metadata": {
        "colab": {
          "base_uri": "https://localhost:8080/"
        },
        "id": "GLoNcTYFyHh9",
        "outputId": "e305947a-26d4-4e5b-ddb8-c86409298477"
      },
      "execution_count": null,
      "outputs": [
        {
          "output_type": "stream",
          "name": "stdout",
          "text": [
            "None\n"
          ]
        }
      ]
    }
  ]
}