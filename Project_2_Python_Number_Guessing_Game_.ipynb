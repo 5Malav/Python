{
  "nbformat": 4,
  "nbformat_minor": 0,
  "metadata": {
    "colab": {
      "provenance": []
    },
    "kernelspec": {
      "name": "python3",
      "display_name": "Python 3"
    },
    "language_info": {
      "name": "python"
    }
  },
  "cells": [
    {
      "cell_type": "code",
      "execution_count": 12,
      "metadata": {
        "colab": {
          "base_uri": "https://localhost:8080/"
        },
        "id": "X3IdilI-kX9r",
        "outputId": "37faf086-625a-4143-9e83-947827fc85d8"
      },
      "outputs": [
        {
          "output_type": "stream",
          "name": "stdout",
          "text": [
            "Type any number: 18\n",
            "Enter any number: 15\n",
            "Think about number less than that....: )\n",
            "Enter any number: 13\n",
            "Think about number less than that....: )\n",
            "Enter any number: 11\n",
            "Think about number less than that....: )\n",
            "Enter any number: 8\n",
            "Think bigggg!!!\n",
            "Enter any number: 10\n",
            "Your prediction is correct!!!\n",
            "You have predicted correct number in  5 guesses\n",
            "Better luck next time!!!!\n"
          ]
        }
      ],
      "source": [
        "import random\n",
        "\n",
        "max_number=input(\"Type any number: \")\n",
        "\n",
        "if max_number.isdigit():\n",
        "  max_number=int(max_number)\n",
        "\n",
        "  if max_number<=0:\n",
        "    print(\"Please enter number >0\")\n",
        "    quit()\n",
        "\n",
        "else:\n",
        "  print(\"Please type a number next time\")\n",
        "\n",
        "random_number=random.randint(0,max_number)\n",
        "#print(random_number)\n",
        "\n",
        "guess=0\n",
        "\n",
        "while True:\n",
        "  guess+=1\n",
        "  take_a_guess=input(\"Enter any number: \")\n",
        "  if take_a_guess.isdigit():\n",
        "    take_a_guess=int(take_a_guess)\n",
        "  else:\n",
        "    print(\"Please enter number in next attempt\")\n",
        "    continue\n",
        "\n",
        "  if take_a_guess==random_number:\n",
        "    print(\"Your prediction is correct!!!\")\n",
        "    break\n",
        "  elif take_a_guess>random_number:\n",
        "    print(\"Think about number less than that....: )\")\n",
        "  else:\n",
        "    print(\"Think bigggg!!!\")\n",
        "\n",
        "print(\"You have predicted correct number in \", guess, \"guesses\")\n",
        "\n",
        "#decide whether you are good at guessing number game.....\n",
        "if guess < (random_number/2):\n",
        "  print(\"Good job!!!\")\n",
        "else:\n",
        "  print(\"Better luck next time!!!!\")\n"
      ]
    }
  ]
}