{
  "nbformat": 4,
  "nbformat_minor": 0,
  "metadata": {
    "colab": {
      "provenance": []
    },
    "kernelspec": {
      "name": "python3",
      "display_name": "Python 3"
    },
    "language_info": {
      "name": "python"
    }
  },
  "cells": [
    {
      "cell_type": "code",
      "execution_count": 2,
      "metadata": {
        "colab": {
          "base_uri": "https://localhost:8080/"
        },
        "id": "X3IdilI-kX9r",
        "outputId": "6b809065-3afb-4460-e732-6d96aed02430"
      },
      "outputs": [
        {
          "output_type": "stream",
          "name": "stdout",
          "text": [
            "Type any number: r\n",
            "Please type a number next time\n",
            "Type any number: r\n",
            "Please type a number next time\n",
            "Type any number: 19\n",
            "Enter any number: 17\n",
            "Think about number less than that....: )\n",
            "Enter any number: 15\n",
            "Think about number less than that....: )\n",
            "Enter any number: 11\n",
            "Think about number less than that....: )\n",
            "Enter any number: 7\n",
            "Think about number less than that....: )\n",
            "Enter any number: 5\n",
            "Think about number less than that....: )\n",
            "Enter any number: 3\n",
            "Think about number less than that....: )\n",
            "Enter any number: 1\n",
            "Your prediction is correct!!!\n",
            "You have predicted correct number in  7 guesses\n",
            "Better luck next time!!!!\n"
          ]
        }
      ],
      "source": [
        "import random\n",
        "\n",
        "while True:\n",
        "\n",
        "    max_number=input(\"Type any number: \")\n",
        "\n",
        "    if max_number.isdigit():\n",
        "      max_number=int(max_number)\n",
        "      break\n",
        "    else:\n",
        "      print(\"Please type a number next time\")\n",
        "\n",
        "random_number = random.randint(0,max_number)\n",
        "#print(random_number)\n",
        "\n",
        "guess=0\n",
        "\n",
        "while True:\n",
        "  guess+=1\n",
        "  take_a_guess=input(\"Enter any number: \")\n",
        "  if take_a_guess.isdigit():\n",
        "    take_a_guess=int(take_a_guess)\n",
        "  else:\n",
        "    print(\"Please enter number in next attempt\")\n",
        "    continue\n",
        "\n",
        "  if take_a_guess==random_number:\n",
        "    print(\"Your prediction is correct!!!\")\n",
        "    break\n",
        "  elif take_a_guess>random_number:\n",
        "    print(\"Think about number less than that....: )\")\n",
        "  else:\n",
        "    print(\"Think bigggg!!!\")\n",
        "\n",
        "print(\"You have predicted correct number in \", guess, \"guesses\")\n",
        "\n",
        "#decide whether you are good at guessing number game.....\n",
        "if guess < (random_number/2):\n",
        "  print(\"Good job!!!\")\n",
        "else:\n",
        "  print(\"Better luck next time!!!!\")\n"
      ]
    }
  ]
}