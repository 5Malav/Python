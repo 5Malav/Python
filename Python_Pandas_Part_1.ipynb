{
  "nbformat": 4,
  "nbformat_minor": 0,
  "metadata": {
    "colab": {
      "provenance": []
    },
    "kernelspec": {
      "name": "python3",
      "display_name": "Python 3"
    },
    "language_info": {
      "name": "python"
    }
  },
  "cells": [
    {
      "cell_type": "markdown",
      "source": [
        "**Contents**"
      ],
      "metadata": {
        "id": "FQ-Zf4Y_pYY0"
      }
    },
    {
      "cell_type": "code",
      "source": [
        "'''\n",
        "Part 1:-Introduction\n",
        "Part 2:-Creating Objects\n",
        "Part 3:-Viewing Data\n",
        "Part 4:-Selection\n",
        "Part 5:-Manipulating Data\n",
        "Part 6:-Grouping Data\n",
        "Part 7:-Merging,Joining and Concatenating\n",
        "Part 8:-Working with Date and Time\n",
        "Part 9:-Working with Text Data\n",
        "Part 10:-Operations\n",
        "Part 11:-Visualizations\n",
        "Part 12:-Application and Projects\n",
        "Part 13:-Miscellaneous\n",
        "'''"
      ],
      "metadata": {
        "id": "VFK-YNDYpW-I"
      },
      "execution_count": null,
      "outputs": []
    },
    {
      "cell_type": "markdown",
      "source": [
        "**Part 1: - Introduction**"
      ],
      "metadata": {
        "id": "mLTJb_eX3ZC2"
      }
    },
    {
      "cell_type": "code",
      "source": [
        "'''\n",
        "-->Pandas is a open source library.\n",
        "\n",
        "-->it can be used for data manipulation.\n",
        "\n",
        "-->it is well suited for tabular data such as spreadsheets or SQL tables.\n",
        "\n",
        "--> its is built on top of the Numpy library which means that\n",
        "a lot of structures of NumPy are used or replicated in Pandas.\n",
        "\n",
        "Uses of Pandas:-\n",
        "\n",
        "-->Data set cleaning , merging and joining.\n",
        "\n",
        "-->Easy handling of missing data (represented as NaN) in floating\n",
        "point as well as non-floating point data.\n",
        "\n",
        "-->Columns can be inserted and deleted from DataFrame and higher\n",
        "dimensional objects.\n",
        "\n",
        "-->Powerful group by functionality for performing split apply\n",
        "combine operations on data sts.\n",
        "\n",
        "-->Data visulization.\n",
        "\n",
        "'''"
      ],
      "metadata": {
        "id": "3TtSkLQv3Tsr"
      },
      "execution_count": null,
      "outputs": []
    },
    {
      "cell_type": "markdown",
      "source": [
        "**Data Structures in Pandas Library**"
      ],
      "metadata": {
        "id": "YayYitwjRVGh"
      }
    },
    {
      "cell_type": "code",
      "source": [
        "'''\n",
        "Pandas Series\n",
        "\n",
        "-->A Pandas Series in a one-dimensional labeled array capable of\n",
        "holding data of any tupe(integer,string,float,Python objects etc.)\n",
        "The axis labels are collectively called indexes.\n",
        "\n",
        "-->The Pandas Series is nothing but a column in an Excel sheet.\n",
        "Labels need not be unique but most be of a hashable type.\n",
        "\n",
        "-->The object supports both integer and label-based indexing\n",
        "and provides a host of methods for performing operations involving\n",
        "the index.\n",
        "\n",
        "'''"
      ],
      "metadata": {
        "id": "luwk4Hx93TRP"
      },
      "execution_count": null,
      "outputs": []
    },
    {
      "cell_type": "markdown",
      "source": [
        "**Craeting a Series**"
      ],
      "metadata": {
        "id": "6BCS3m-6S38v"
      }
    },
    {
      "cell_type": "code",
      "source": [
        "'''\n",
        "Pandas Series is created by loading the datasets from existing storage\n",
        "(which can be a SQL database, a CSV file or an Excel file.)\n",
        "\n",
        "Pandas Series can be created from lists, dictionaries , scalar values etc.\n",
        "\n",
        "'''\n",
        "\n",
        "import pandas as pd\n",
        "import numpy as np\n",
        "\n",
        "#Creating empty series\n",
        "\n",
        "ser = pd.Series()\n",
        "print(\"Pandas Series : \",ser)\n",
        "\n",
        "#simple array\n",
        "\n",
        "data=np.array(['g','e','e','k','s'])\n",
        "\n",
        "ser=pd.Series(data)\n",
        "\n",
        "print(\"Pandas Series:\\n\",ser)\n",
        "\n"
      ],
      "metadata": {
        "colab": {
          "base_uri": "https://localhost:8080/"
        },
        "id": "1apc9Rza3TOD",
        "outputId": "8252a790-e82b-4e4e-fbd6-115a534ae5d5"
      },
      "execution_count": null,
      "outputs": [
        {
          "output_type": "stream",
          "name": "stdout",
          "text": [
            "Pandas Series :  Series([], dtype: object)\n",
            "Pandas Series:\n",
            " 0    g\n",
            "1    e\n",
            "2    e\n",
            "3    k\n",
            "4    s\n",
            "dtype: object\n"
          ]
        }
      ]
    },
    {
      "cell_type": "markdown",
      "source": [
        "**Creating DataFrame**"
      ],
      "metadata": {
        "id": "GwYOYCSUVNXT"
      }
    },
    {
      "cell_type": "code",
      "source": [
        "'''\n",
        "-->Pandas DataFrame is created by loading the datasets from\n",
        "existing storage(which can be a SQL database, a CSV file,\n",
        "or an Excel file.)\n",
        "\n",
        "--> Pandas DataFrame can be created from lists,dictionaries,\n",
        "a list of disctionaries etc.\n",
        "'''\n",
        "\n",
        "import pandas as pd\n",
        "\n",
        "#Calling DataFrame constructor\n",
        "\n",
        "df=pd.DataFrame()\n",
        "print(df)\n",
        "\n",
        "#list of strings\n",
        "\n",
        "lst=['I','am','the','best','Data Scientist']\n",
        "\n",
        "#calling DataFrame constructor on list\n",
        "df=pd.DataFrame(lst)\n",
        "print(df)"
      ],
      "metadata": {
        "colab": {
          "base_uri": "https://localhost:8080/"
        },
        "id": "FuCEw4mF3SAu",
        "outputId": "09e7183f-fb3b-4fba-a723-bead2401dea3"
      },
      "execution_count": null,
      "outputs": [
        {
          "output_type": "stream",
          "name": "stdout",
          "text": [
            "Empty DataFrame\n",
            "Columns: []\n",
            "Index: []\n",
            "                0\n",
            "0               I\n",
            "1              am\n",
            "2             the\n",
            "3            best\n",
            "4  Data Scientist\n"
          ]
        }
      ]
    },
    {
      "cell_type": "markdown",
      "source": [
        "**Part 2:-Creating Objects**"
      ],
      "metadata": {
        "id": "5mLr-Fh_qNff"
      }
    },
    {
      "cell_type": "markdown",
      "source": [
        "**Creating a Pandas DataFrame**"
      ],
      "metadata": {
        "id": "N5z1aaa4t0IK"
      }
    },
    {
      "cell_type": "code",
      "source": [
        "import pandas as pd\n",
        "\n",
        "#list of strings\n",
        "lst=[\"Python\",\"Machine Learning\",\"Deep Learning\",\"Generative AI\"]\n",
        "\n",
        "#calling a dataframe contstuctor on list\n",
        "df=pd.DataFrame(lst)\n",
        "print(df)"
      ],
      "metadata": {
        "colab": {
          "base_uri": "https://localhost:8080/"
        },
        "id": "5UOOLWsJ3R-Q",
        "outputId": "f9ecfa80-ec67-4612-8830-8673f990062f"
      },
      "execution_count": null,
      "outputs": [
        {
          "output_type": "stream",
          "name": "stdout",
          "text": [
            "                  0\n",
            "0            Python\n",
            "1  Machine Learning\n",
            "2     Deep Learning\n",
            "3     Generative AI\n"
          ]
        }
      ]
    },
    {
      "cell_type": "markdown",
      "source": [
        "**Creating DataFrame from dict of ndarray/lists**"
      ],
      "metadata": {
        "id": "1RBW-IxQuOT9"
      }
    },
    {
      "cell_type": "code",
      "source": [
        "'''\n",
        "-->To create DataFrame from dict on narray/list , all the narray must be of same\n",
        "length. If index is passed then the length index should be equal to the length\n",
        "arrays. If no index is passed , they by default, index with be range(n)\n",
        "where n is the array length.\n",
        "'''\n",
        "import pandas as pd\n",
        "#intialise data of lists\n",
        "\n",
        "data={\"Name\":[\"Malav\",\"Vatsal\",\"Priyam\",\"Deep\"],\n",
        "      \"Age\":[27,26,29,25]}\n",
        "\n",
        "#create dataframe\n",
        "\n",
        "df=pd.DataFrame(data)\n",
        "print(df)\n"
      ],
      "metadata": {
        "colab": {
          "base_uri": "https://localhost:8080/"
        },
        "id": "UcnlxgqQ3R7k",
        "outputId": "254a0cac-5a0a-4bac-d27c-88435efe0a6a"
      },
      "execution_count": null,
      "outputs": [
        {
          "output_type": "stream",
          "name": "stdout",
          "text": [
            "     Name  Age\n",
            "0   Malav   27\n",
            "1  Vatsal   26\n",
            "2  Priyam   29\n",
            "3    Deep   25\n"
          ]
        }
      ]
    },
    {
      "cell_type": "markdown",
      "source": [
        "**Dealing with Rows and Columns**"
      ],
      "metadata": {
        "id": "5SkBzju-a0i1"
      }
    },
    {
      "cell_type": "code",
      "source": [
        "'''\n",
        "-->A DataFrame is a 2-dimensional data structure i.e data is aligned in a tabular\n",
        "fashion in rows and columns. We can perform basic operations on rows/columns like\n",
        "selecting,deleting,adding and renaming.\n",
        "\n",
        "Column Selection:-\n",
        "In order to select a column in Pandas DataFrame we can either access the columns\n",
        "by call them by their column names.\n",
        "\n",
        "'''\n",
        "import pandas as pd\n",
        "\n",
        "#Define a dictionary containing column employee data\n",
        "\n",
        "data={\"Name\": [\"Malav\",'Deep',\"Keith\",\"Charlyne\"],\n",
        "      \"Age\":[27,26,36,45],\n",
        "      \"Address\":['Ahmedabad','Scarborough','Ottawa','North York'],\n",
        "      'Qualification':['Msc','Diploma','Graduate','Degree']}\n",
        "\n",
        "#craete a dataframe\n",
        "df=pd.DataFrame(data)\n",
        "print(df)\n",
        "\n",
        "#Select 2 columns\n",
        "print(df[['Age','Address']])\n"
      ],
      "metadata": {
        "id": "wrHNzn2n3R5O",
        "colab": {
          "base_uri": "https://localhost:8080/"
        },
        "outputId": "0ce40c6b-1fe3-49c3-dadb-dab5be9c0388"
      },
      "execution_count": null,
      "outputs": [
        {
          "output_type": "stream",
          "name": "stdout",
          "text": [
            "       Name  Age      Address Qualification\n",
            "0     Malav   27    Ahmedabad           Msc\n",
            "1      Deep   26  Scarborough       Diploma\n",
            "2     Keith   36       Ottawa      Graduate\n",
            "3  Charlyne   45   North York        Degree\n",
            "   Age      Address\n",
            "0   27    Ahmedabad\n",
            "1   26  Scarborough\n",
            "2   36       Ottawa\n",
            "3   45   North York\n"
          ]
        }
      ]
    },
    {
      "cell_type": "markdown",
      "source": [
        "**Row Selection**"
      ],
      "metadata": {
        "id": "JLGVcyrybmkO"
      }
    },
    {
      "cell_type": "code",
      "source": [
        "'''\n",
        "-->Pandas provide a unique method to retrieve rows from a data frame.\n",
        "\n",
        "-->DataFrame.loc[] method is used to retrieve rows from Pandas DataFrame.\n",
        "\n",
        "-->Rows can also be selected by passing integer location to an iloc[] function.\n",
        "\n",
        "'''\n",
        "\n"
      ],
      "metadata": {
        "id": "P_c-j-WhcIHn",
        "colab": {
          "base_uri": "https://localhost:8080/",
          "height": 71
        },
        "outputId": "3cc6101c-cf13-45ce-bfa8-9189eea2ee90"
      },
      "execution_count": null,
      "outputs": [
        {
          "output_type": "execute_result",
          "data": {
            "text/plain": [
              "'\\n-->Pandas provide a unique method to retrieve rows from a data frame.\\n\\n-->DataFrame.loc[] method is used to retrieve rows from Pandas DataFrame.\\n\\n-->Rows can also be selected by passing integer location to an iloc[] function.\\n\\n'"
            ],
            "application/vnd.google.colaboratory.intrinsic+json": {
              "type": "string"
            }
          },
          "metadata": {},
          "execution_count": 33
        }
      ]
    },
    {
      "cell_type": "code",
      "source": [
        "import pandas as pd\n",
        "import io\n",
        "path=\"/content/nba.csv\"\n",
        "\n",
        "df=pd.read_csv(path)\n",
        "print(df.head())\n",
        "\n",
        "#malimg data frame from csv file.\n",
        "\n",
        "##data=pd.read_csv(data,index_col=\"Name\")\n",
        "\n",
        "#retrieving row by loc method\n",
        "#\n",
        "first = df.loc[0]\n",
        "second = df.loc[1]\n",
        "print(first,'\\n\\n\\n',second)\n"
      ],
      "metadata": {
        "id": "bAfyVfK5cIEi",
        "colab": {
          "base_uri": "https://localhost:8080/"
        },
        "outputId": "26f298ae-8a8c-4de5-d18c-40e6927ff600"
      },
      "execution_count": null,
      "outputs": [
        {
          "output_type": "stream",
          "name": "stdout",
          "text": [
            "            Name            Team  Number Position   Age Height  Weight  \\\n",
            "0  Avery Bradley  Boston Celtics     0.0       PG  25.0    6-2   180.0   \n",
            "1    Jae Crowder  Boston Celtics    99.0       SF  25.0    6-6   235.0   \n",
            "2   John Holland  Boston Celtics    30.0       SG  27.0    6-5   205.0   \n",
            "3    R.J. Hunter  Boston Celtics    28.0       SG  22.0    6-5   185.0   \n",
            "4  Jonas Jerebko  Boston Celtics     8.0       PF  29.0   6-10   231.0   \n",
            "\n",
            "             College     Salary  \n",
            "0              Texas  7730337.0  \n",
            "1          Marquette  6796117.0  \n",
            "2  Boston University        NaN  \n",
            "3      Georgia State  1148640.0  \n",
            "4                NaN  5000000.0  \n",
            "Name         Avery Bradley\n",
            "Team        Boston Celtics\n",
            "Number                 0.0\n",
            "Position                PG\n",
            "Age                   25.0\n",
            "Height                 6-2\n",
            "Weight               180.0\n",
            "College              Texas\n",
            "Salary           7730337.0\n",
            "Name: 0, dtype: object \n",
            "\n",
            "\n",
            " Name           Jae Crowder\n",
            "Team        Boston Celtics\n",
            "Number                99.0\n",
            "Position                SF\n",
            "Age                   25.0\n",
            "Height                 6-6\n",
            "Weight               235.0\n",
            "College          Marquette\n",
            "Salary           6796117.0\n",
            "Name: 1, dtype: object\n"
          ]
        }
      ]
    },
    {
      "cell_type": "markdown",
      "source": [
        "**Indexing and Selecting Data**"
      ],
      "metadata": {
        "id": "xGSPJax_lC7u"
      }
    },
    {
      "cell_type": "code",
      "source": [
        "'''\n",
        "--> Indexing in pandas means simply seldcting particular rows and columns\n",
        "of data from a DataFrame. Indexing could mean selecting all the rows and some\n",
        "of the columns, some of the rows and all of the columns, or some of each of\n",
        "the rows and columns. Indexing can also be knows as Subset Selection.\n",
        "\n",
        "Indexing a DataFrame using indexing operator[]:\n",
        "\n",
        "Indexing operator is used to refer to the square brackets following an object.\n",
        "The .loc and .iloc indexers also use the indexing operator to make selections.\n",
        "In this indexing operator to refer to df[].\n",
        "\n",
        "'''\n",
        "\n",
        "#Selecting a single column\n",
        "import pandas as pd\n",
        "\n",
        "#making data frame from csv file.\n",
        "\n",
        "df=pd.read_csv(path)\n",
        "\n",
        "#retrieving column by indexing operator.\n",
        "first=df['Age']\n",
        "print(first)\n"
      ],
      "metadata": {
        "id": "uBWTvrybcIBu",
        "colab": {
          "base_uri": "https://localhost:8080/"
        },
        "outputId": "1fcc9c81-8e6f-420f-b3e8-645b2b8ffd38"
      },
      "execution_count": null,
      "outputs": [
        {
          "output_type": "stream",
          "name": "stdout",
          "text": [
            "0      25.0\n",
            "1      25.0\n",
            "2      27.0\n",
            "3      22.0\n",
            "4      29.0\n",
            "       ... \n",
            "453    26.0\n",
            "454    24.0\n",
            "455    26.0\n",
            "456    26.0\n",
            "457     NaN\n",
            "Name: Age, Length: 458, dtype: float64\n"
          ]
        }
      ]
    },
    {
      "cell_type": "markdown",
      "source": [
        "**Indexing a DataFreame using .loc[] & .iloc[]**\n",
        "\n",
        "\n",
        "\n"
      ],
      "metadata": {
        "id": "5G3ilqaKsAe5"
      }
    },
    {
      "cell_type": "code",
      "source": [
        "'''\n",
        "-->The function selects data by the label of the tows and columns. The\n",
        "df.loc indexer selects data in a different way than just the indexing operator.\n",
        "\n",
        "it can select subsets of rows and columns. it can also simultaniously select\n",
        "subsets of rows and columns.\n",
        "\n",
        "'''"
      ],
      "metadata": {
        "id": "CiY_xxIvtiYt"
      },
      "execution_count": null,
      "outputs": []
    },
    {
      "cell_type": "code",
      "source": [
        "import pandas as pd\n",
        "\n",
        "# making data frame from csv file\n",
        "data = pd.read_csv(\"nba.csv\", index_col =\"Name\")\n",
        "#without index_col='Name' it will through an error.\n",
        "\n",
        "# retrieving row by loc method\n",
        "first = data.loc[\"Avery Bradley\"]\n",
        "second = data.loc[\"R.J. Hunter\"]\n",
        "\n",
        "\n",
        "print(first, \"\\n\\n\\n\", second)"
      ],
      "metadata": {
        "colab": {
          "base_uri": "https://localhost:8080/"
        },
        "id": "ri_1MER0sAOj",
        "outputId": "7a7ef4bd-e115-470f-f0f8-0e9bd6f74a10"
      },
      "execution_count": null,
      "outputs": [
        {
          "output_type": "stream",
          "name": "stdout",
          "text": [
            "Team        Boston Celtics\n",
            "Number                 0.0\n",
            "Position                PG\n",
            "Age                   25.0\n",
            "Height                 6-2\n",
            "Weight               180.0\n",
            "College              Texas\n",
            "Salary           7730337.0\n",
            "Name: Avery Bradley, dtype: object \n",
            "\n",
            "\n",
            " Team        Boston Celtics\n",
            "Number                28.0\n",
            "Position                SG\n",
            "Age                   22.0\n",
            "Height                 6-5\n",
            "Weight               185.0\n",
            "College      Georgia State\n",
            "Salary           1148640.0\n",
            "Name: R.J. Hunter, dtype: object\n"
          ]
        }
      ]
    },
    {
      "cell_type": "code",
      "source": [
        "'''\n",
        ".iloc[]\n",
        "-->This function allows us retrieve rows and columns by positions. In order to\n",
        "do that, we will need to specify the positions of the rows that we want and\n",
        "the positions of the colhmns that we want as well.\n",
        "\n",
        "--> The df.iloc[] inmdexer is very similar to .iloc[] but only uses integer\n",
        "locations to make its selections.\n",
        "'''"
      ],
      "metadata": {
        "id": "rLaQFnuNEx_d"
      },
      "execution_count": null,
      "outputs": []
    },
    {
      "cell_type": "code",
      "source": [
        "#In order to select a singlw row using .iloc[] , we can pass a single integer\n",
        "#.iloc[] function.\n",
        "\n",
        "import pandas as pd\n",
        "\n",
        "#making data frame from csv file.\n",
        "\n",
        "data=pd.read_csv(\"nba.csv\",index_col='Name')\n",
        "\n",
        "#retrieving rows by iloc method\n",
        "row2=data.iloc[3]\n",
        "print(row2)"
      ],
      "metadata": {
        "colab": {
          "base_uri": "https://localhost:8080/"
        },
        "id": "ePK2CwxhEx40",
        "outputId": "49818dee-c775-4e79-eb01-d2c741c195a9"
      },
      "execution_count": null,
      "outputs": [
        {
          "output_type": "stream",
          "name": "stdout",
          "text": [
            "Team        Boston Celtics\n",
            "Number                28.0\n",
            "Position                SG\n",
            "Age                   22.0\n",
            "Height                 6-5\n",
            "Weight               185.0\n",
            "College      Georgia State\n",
            "Salary           1148640.0\n",
            "Name: R.J. Hunter, dtype: object\n"
          ]
        }
      ]
    },
    {
      "cell_type": "code",
      "source": [],
      "metadata": {
        "id": "Wfo9yMdREx2q"
      },
      "execution_count": null,
      "outputs": []
    },
    {
      "cell_type": "code",
      "source": [],
      "metadata": {
        "id": "_NZC-mzIExz9"
      },
      "execution_count": null,
      "outputs": []
    },
    {
      "cell_type": "code",
      "source": [],
      "metadata": {
        "id": "bAmXbkcRcH5X"
      },
      "execution_count": null,
      "outputs": []
    },
    {
      "cell_type": "code",
      "source": [],
      "metadata": {
        "id": "YSegcjNt3R2D"
      },
      "execution_count": null,
      "outputs": []
    },
    {
      "cell_type": "code",
      "execution_count": null,
      "metadata": {
        "id": "hBDWU6kD3RJK"
      },
      "outputs": [],
      "source": []
    }
  ]
}