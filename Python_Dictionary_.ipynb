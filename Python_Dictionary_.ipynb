{
  "nbformat": 4,
  "nbformat_minor": 0,
  "metadata": {
    "colab": {
      "provenance": []
    },
    "kernelspec": {
      "name": "python3",
      "display_name": "Python 3"
    },
    "language_info": {
      "name": "python"
    }
  },
  "cells": [
    {
      "cell_type": "markdown",
      "source": [
        "**Dictionary**\n",
        "\n",
        "\n",
        "--> Python dictionary is a container of the unordered set of objects like lists. The object are surrounded by\n",
        " { }\n",
        "\n",
        "-->The items in a dictionary are a comma - separated list of key value pairs, where keys and value are python  data types.\n",
        "\n",
        "-->Each object or value accessed by key and keys are unique in the dictionary.\n",
        "\n",
        "--> As keys are used for indexing, they must be the immutable type(string, number tuple)\n",
        "\n",
        "--> we can create empty dictionary { }.\n"
      ],
      "metadata": {
        "id": "nfc-f3h89aMB"
      }
    },
    {
      "cell_type": "markdown",
      "source": [
        "**Create a dictionary**"
      ],
      "metadata": {
        "id": "TcQKQjEvEntJ"
      }
    },
    {
      "cell_type": "code",
      "source": [
        "color= {\"col 1\":'red', 'col 2':'green'}\n",
        "print(color)"
      ],
      "metadata": {
        "colab": {
          "base_uri": "https://localhost:8080/"
        },
        "id": "msG0JXnh510o",
        "outputId": "c8df033c-3c3c-48a6-8be9-b2d87176f19a"
      },
      "execution_count": null,
      "outputs": [
        {
          "output_type": "stream",
          "name": "stdout",
          "text": [
            "{'col 1': 'red', 'col 2': 'green'}\n"
          ]
        }
      ]
    },
    {
      "cell_type": "markdown",
      "source": [
        "** Get a value by key in Python dictionary**"
      ],
      "metadata": {
        "id": "kKrWFsdubxm8"
      }
    },
    {
      "cell_type": "code",
      "source": [
        "dict={1:20.5, 2:30.3,3:23,4:33}\n",
        "print(dict)\n",
        "\n",
        "#access value using key\n",
        "print(dict[1])\n",
        "\n",
        "print(dict[3])\n",
        "\n",
        "#Accessing value using get() method\n",
        "dict.get(1)\n",
        "\n",
        "dict.get(2)\n"
      ],
      "metadata": {
        "colab": {
          "base_uri": "https://localhost:8080/"
        },
        "id": "d3keIKZH51yJ",
        "outputId": "ab6afd2a-3da8-4693-9cda-603f2bc91de0"
      },
      "execution_count": null,
      "outputs": [
        {
          "output_type": "stream",
          "name": "stdout",
          "text": [
            "{1: 20.5, 2: 30.3, 3: 23, 4: 33}\n",
            "20.5\n",
            "23\n"
          ]
        },
        {
          "output_type": "execute_result",
          "data": {
            "text/plain": [
              "30.3"
            ]
          },
          "metadata": {},
          "execution_count": 6
        }
      ]
    },
    {
      "cell_type": "markdown",
      "source": [
        "**Add key/value to a dictionary in Python**"
      ],
      "metadata": {
        "id": "tJEhbaRecfDr"
      }
    },
    {
      "cell_type": "code",
      "source": [
        "dic={'pdy1' : 'Dictionary'}\n",
        "\n",
        "dic['pdy2']='string'\n",
        "print(dic)\n",
        "\n",
        "#Using update() method to add key value pairs into dictionary\n",
        "\n",
        "dic1={0:10,1:10}\n",
        "\n",
        "dic1.update({2:30})\n",
        "print(dic1)"
      ],
      "metadata": {
        "colab": {
          "base_uri": "https://localhost:8080/"
        },
        "id": "sH12QJrQ51vz",
        "outputId": "f7cdb9aa-5912-413a-b886-3cf86c382d70"
      },
      "execution_count": 1,
      "outputs": [
        {
          "output_type": "stream",
          "name": "stdout",
          "text": [
            "{'pdy1': 'Dictionary', 'pdy2': 'string'}\n",
            "{0: 10, 1: 10, 2: 30}\n"
          ]
        }
      ]
    },
    {
      "cell_type": "markdown",
      "source": [
        "**Iterate over Python dictionaries using for loops**"
      ],
      "metadata": {
        "id": "Lj2rfxraa_GU"
      }
    },
    {
      "cell_type": "code",
      "source": [
        "dict1={'red':1,'green':2,'blue':3}\n",
        "\n",
        "for color_key,value in dict1.items():\n",
        "  print(color_key,\"corresponds to\",value)"
      ],
      "metadata": {
        "id": "7VKMbTXX51tR",
        "colab": {
          "base_uri": "https://localhost:8080/"
        },
        "outputId": "bcffad52-2254-48f9-dc32-0fb19a952fc2"
      },
      "execution_count": 4,
      "outputs": [
        {
          "output_type": "stream",
          "name": "stdout",
          "text": [
            "red corresponds to 1\n",
            "green corresponds to 2\n",
            "blue corresponds to 3\n"
          ]
        }
      ]
    },
    {
      "cell_type": "markdown",
      "source": [
        "**remove a key from python dictionary**"
      ],
      "metadata": {
        "id": "5bq_YYdGfK88"
      }
    },
    {
      "cell_type": "code",
      "source": [
        "dict1={'a':1,'b':2,'c':3}\n",
        "print(dict1)\n",
        "\n",
        "if 'a' in dict1:\n",
        "  del dict1['a']\n",
        "\n",
        "print(dict1)"
      ],
      "metadata": {
        "id": "_sdSkjiC51rB",
        "colab": {
          "base_uri": "https://localhost:8080/"
        },
        "outputId": "a5a82c66-2b20-4beb-be14-9e92eb176d9a"
      },
      "execution_count": 8,
      "outputs": [
        {
          "output_type": "stream",
          "name": "stdout",
          "text": [
            "{'a': 1, 'b': 2, 'c': 3}\n",
            "{'b': 2, 'c': 3}\n"
          ]
        }
      ]
    },
    {
      "cell_type": "markdown",
      "source": [
        "**test whether a python dictionary contains a speicific key**"
      ],
      "metadata": {
        "id": "8cfRtsTJjoRk"
      }
    },
    {
      "cell_type": "code",
      "source": [
        "fruits={}\n",
        "\n",
        "fruits['apple']=1\n",
        "fruits['mango']=2\n",
        "\n",
        "print(fruits)\n",
        "\n",
        "#use in\n",
        "\n",
        "if 'mango' in fruits:\n",
        "  print(\"has mango\")\n",
        "else:\n",
        "  print(\"no mango\")\n",
        "\n",
        "if 'orange' in fruits:\n",
        "  print(\"has orange\")\n",
        "else:\n",
        "  print(\"no orange\")"
      ],
      "metadata": {
        "colab": {
          "base_uri": "https://localhost:8080/"
        },
        "id": "dYTP3EIjjn1k",
        "outputId": "3892731b-d0e5-4120-bc1d-585b433d8eba"
      },
      "execution_count": 14,
      "outputs": [
        {
          "output_type": "stream",
          "name": "stdout",
          "text": [
            "{'apple': 1, 'mango': 2}\n",
            "has mango\n",
            "no orange\n"
          ]
        }
      ]
    }
  ]
}