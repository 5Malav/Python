{
  "nbformat": 4,
  "nbformat_minor": 0,
  "metadata": {
    "colab": {
      "provenance": []
    },
    "kernelspec": {
      "name": "python3",
      "display_name": "Python 3"
    },
    "language_info": {
      "name": "python"
    }
  },
  "cells": [
    {
      "cell_type": "code",
      "execution_count": 8,
      "metadata": {
        "colab": {
          "base_uri": "https://localhost:8080/"
        },
        "id": "v2PCbpN7kgW8",
        "outputId": "2b4a834e-218c-4377-88d2-865f68b7fc5a"
      },
      "outputs": [
        {
          "output_type": "stream",
          "name": "stdout",
          "text": [
            "Type your name: Malav\n",
            "Welcome Malav to this adventure!\n",
            "You are on a dirt road, it has come to an end and you can go left or right. Which way would you like to go? right\n",
            "You come to a bridge, it looks wobbly, do you want to cross it or head back (cross/back)? cross\n",
            "You cross the bridge and meet a stranger. Do you talk to them (yes/no)? no\n",
            "You ignore the stranger and they are offended and you lose.\n",
            "Thank you for trying Malav\n"
          ]
        }
      ],
      "source": [
        "name = input(\"Type your name: \")\n",
        "print(\"Welcome\", name, \"to this adventure!\")\n",
        "\n",
        "answer = input(\n",
        "    \"You are on a dirt road, it has come to an end and you can go left or right. Which way would you like to go? \").lower()\n",
        "\n",
        "if answer == \"left\":\n",
        "    answer = input(\n",
        "        \"You come to a river, you can walk around it or swim accross? Type walk to walk around and swim to swim accross: \")\n",
        "\n",
        "    if answer == \"swim\":\n",
        "        print(\"You swam acrross and were eaten by an alligator.\")\n",
        "    elif answer == \"walk\":\n",
        "        print(\"You walked for many miles, ran out of water and you lost the game.\")\n",
        "    else:\n",
        "        print('Not a valid option. You lose.')\n",
        "\n",
        "elif answer == \"right\":\n",
        "    answer = input(\n",
        "        \"You come to a bridge, it looks wobbly, do you want to cross it or head back (cross/back)? \")\n",
        "\n",
        "    if answer == \"back\":\n",
        "        print(\"You go back and lose.\")\n",
        "    elif answer == \"cross\":\n",
        "        answer = input(\n",
        "            \"You cross the bridge and meet a stranger. Do you talk to them (yes/no)? \")\n",
        "\n",
        "        if answer == \"yes\":\n",
        "            print(\"You talk to the stanger and they give you gold. You WIN!\")\n",
        "        elif answer == \"no\":\n",
        "            print(\"You ignore the stranger and they are offended and you lose.\")\n",
        "        else:\n",
        "            print('Not a valid option. You lose.')\n",
        "    else:\n",
        "        print('Not a valid option. You lose.')\n",
        "\n",
        "else:\n",
        "    print('Not a valid option. You lose.')\n",
        "\n",
        "print(\"Thank you for trying\", name)\n"
      ]
    },
    {
      "cell_type": "code",
      "source": [],
      "metadata": {
        "id": "1GHxMjsZatba"
      },
      "execution_count": null,
      "outputs": []
    }
  ]
}