{
  "nbformat": 4,
  "nbformat_minor": 0,
  "metadata": {
    "colab": {
      "provenance": []
    },
    "kernelspec": {
      "name": "python3",
      "display_name": "Python 3"
    },
    "language_info": {
      "name": "python"
    }
  },
  "cells": [
    {
      "cell_type": "markdown",
      "source": [
        "**List**\n",
        "--> A list a container which holds comma-separated values(items ot elements between square brackets where items or elements neeed not all have the same types\n",
        "\n",
        "-->in general we can define a list as an object that contains multiple data items or elements\n",
        "\n",
        "--> the content of a list can be changed during program execution. the size of a list can also change during execution as elements are added or removed from it."
      ],
      "metadata": {
        "id": "ySHDhRPUfm-L"
      }
    },
    {
      "cell_type": "markdown",
      "source": [
        "**create a list**"
      ],
      "metadata": {
        "id": "lo2RcPdHmlF9"
      }
    },
    {
      "cell_type": "code",
      "source": [
        "list1=[1,2,3,4]\n",
        "print(list1)\n",
        "\n",
        "list2=[\"red\",\"blue\",\"green\",\"black\"]\n",
        "print(list2)\n",
        "\n",
        "ls3=[\"red\",1,2,3]\n",
        "print(ls3)\n",
        "\n",
        "ls4=[]\n",
        "print(ls4)\n",
        "\n",
        "#use of + operator\n",
        "ls5=[\"white\",\"yellow\"]\n",
        "ls6=[\"red\",\"blue\"]\n",
        "\n",
        "ls7=ls5+ls6\n",
        "print(ls7)\n",
        "\n",
        "number=[1,2,3]\n",
        "print(number[0]*4)\n",
        "\n",
        "print(number*3)"
      ],
      "metadata": {
        "id": "htiJ-FMMfeh7",
        "colab": {
          "base_uri": "https://localhost:8080/"
        },
        "outputId": "ae25dc13-e658-4307-b22d-72e742dee6fe"
      },
      "execution_count": null,
      "outputs": [
        {
          "output_type": "stream",
          "name": "stdout",
          "text": [
            "[1, 2, 3, 4]\n",
            "['red', 'blue', 'green', 'black']\n",
            "['red', 1, 2, 3]\n",
            "[]\n",
            "['white', 'yellow', 'red', 'blue']\n",
            "4\n",
            "[1, 2, 3, 1, 2, 3, 1, 2, 3]\n"
          ]
        }
      ]
    },
    {
      "cell_type": "markdown",
      "source": [
        "**List Indices**\n",
        "\n",
        "-->list indices works the same way string indices,list indices start at 0\n",
        "\n",
        "--> if an index has a positive value it counts from the beginning and similarly it counts backwards if the index has a negative value.\n",
        "\n",
        "-->as positive integers are used to index from the left end and negative integeers are used ti index from the right end so every item of a list gives two alternatives indices."
      ],
      "metadata": {
        "id": "9sCmbJIKnqG_"
      }
    },
    {
      "cell_type": "code",
      "source": [
        "ls=[\"red\",\"blue\",\"green\",\"black\"]\n",
        "print(ls)\n",
        "#indices start at 0 and end at 3\n",
        "\n",
        "print(ls[0])\n",
        "\n",
        "#print the first and last element of the list\n",
        "print(ls[0],ls[3])\n",
        "\n",
        "#return the last element\n",
        "\n",
        "print(ls[-1])\n"
      ],
      "metadata": {
        "id": "VWKbZaUFj8tX",
        "colab": {
          "base_uri": "https://localhost:8080/"
        },
        "outputId": "642268c4-64aa-4dbd-e8a7-c8b089aa9960"
      },
      "execution_count": null,
      "outputs": [
        {
          "output_type": "stream",
          "name": "stdout",
          "text": [
            "['red', 'blue', 'green', 'black']\n",
            "red\n",
            "red black\n",
            "black\n"
          ]
        }
      ]
    },
    {
      "cell_type": "markdown",
      "source": [
        "**Add an item to the end of the list**"
      ],
      "metadata": {
        "id": "Qt601pO3wW9t"
      }
    },
    {
      "cell_type": "code",
      "source": [
        "color_list=[\"red\",\"green\",\"blue\",\"black\"]\n",
        "color_list.append(\"yellow\")\n",
        "\n",
        "print(color_list)"
      ],
      "metadata": {
        "id": "Ufmp0wFij8qy",
        "colab": {
          "base_uri": "https://localhost:8080/"
        },
        "outputId": "9f3d3c57-c850-4f0b-f786-a5d097945cba"
      },
      "execution_count": 1,
      "outputs": [
        {
          "output_type": "stream",
          "name": "stdout",
          "text": [
            "['red', 'green', 'blue', 'black', 'yellow']\n"
          ]
        }
      ]
    },
    {
      "cell_type": "markdown",
      "source": [
        "**Insert an item at a given position**"
      ],
      "metadata": {
        "id": "vxaW3hebwnne"
      }
    },
    {
      "cell_type": "code",
      "source": [
        "color_list=[\"red\",\"green\",\"blue\",\"black\"]\n",
        "\n",
        "color_list.insert(2,\"yellow\")\n",
        "\n",
        "print(color_list)"
      ],
      "metadata": {
        "id": "3jWSFQE-j8oV",
        "colab": {
          "base_uri": "https://localhost:8080/"
        },
        "outputId": "911c2c03-5651-4782-a047-7a62ff543666"
      },
      "execution_count": 2,
      "outputs": [
        {
          "output_type": "stream",
          "name": "stdout",
          "text": [
            "['red', 'green', 'yellow', 'blue', 'black']\n"
          ]
        }
      ]
    },
    {
      "cell_type": "markdown",
      "source": [
        "**Modify an list by using the index of an elemnent**"
      ],
      "metadata": {
        "id": "ZVGCn-i9w2gV"
      }
    },
    {
      "cell_type": "code",
      "source": [
        "color_list=[\"red\",\"blue\",\"green\",\"black\"]\n",
        "print(color_list)\n",
        "\n",
        "color_list[1]=\"yellow\"\n",
        "\n",
        "print(color_list)"
      ],
      "metadata": {
        "id": "CdH2jNyxj8l_",
        "colab": {
          "base_uri": "https://localhost:8080/"
        },
        "outputId": "c75d180f-37e5-4d4e-ea92-f97f9dec209a"
      },
      "execution_count": 4,
      "outputs": [
        {
          "output_type": "stream",
          "name": "stdout",
          "text": [
            "['red', 'blue', 'green', 'black']\n",
            "['red', 'yellow', 'green', 'black']\n"
          ]
        }
      ]
    },
    {
      "cell_type": "markdown",
      "source": [
        "**remove and item from the list**"
      ],
      "metadata": {
        "id": "D5L4k_jaxxJM"
      }
    },
    {
      "cell_type": "code",
      "source": [
        "color_list=[\"red\",\"black\",\"blue\",\"yellow\"]\n",
        "\n",
        "color_list.remove(\"yellow\")\n",
        "\n",
        "print(color_list)"
      ],
      "metadata": {
        "id": "uLweiAJ1j8ja",
        "colab": {
          "base_uri": "https://localhost:8080/"
        },
        "outputId": "926a9930-93db-4747-d8c5-4525e02e2878"
      },
      "execution_count": 5,
      "outputs": [
        {
          "output_type": "stream",
          "name": "stdout",
          "text": [
            "['red', 'black', 'blue']\n"
          ]
        }
      ]
    },
    {
      "cell_type": "markdown",
      "source": [
        "**remove all the items from the list**"
      ],
      "metadata": {
        "id": "To0gnoRax_C6"
      }
    },
    {
      "cell_type": "code",
      "source": [
        "color_list=[\"red\",\"blue\",\"green\",\"yellow\"]\n",
        "\n",
        "color_list.clear()\n",
        "\n",
        "print(color_list)"
      ],
      "metadata": {
        "id": "c0ctLa20j8gl",
        "colab": {
          "base_uri": "https://localhost:8080/"
        },
        "outputId": "a10c65b2-b855-4058-e088-fc9ff40586e2"
      },
      "execution_count": 6,
      "outputs": [
        {
          "output_type": "stream",
          "name": "stdout",
          "text": [
            "[]\n"
          ]
        }
      ]
    },
    {
      "cell_type": "markdown",
      "source": [
        "**List slices**\n",
        "\n",
        "-->List can be sliced like strings and other sequences.\n",
        "\n",
        "--> sliced_list=List_name[start_index:end_index]\n",
        "\n",
        "--> this refer to the items of a list starting at index start_index and stopping just before index end_index\n",
        "\n",
        "--> the default value for its are 0(start_index) and the end(end_index) of the list. If you omit both indices the slice makes a copy of the original list."
      ],
      "metadata": {
        "id": "AICM6e4N0g7G"
      }
    },
    {
      "cell_type": "code",
      "source": [
        "color_list=[\"red\",\"blue\",\"yellow\",\"green\"]\n",
        "\n",
        "print(color_list[0:2])\n",
        "#indices start at 0 and end at 1. it will not include 3rd item in the list"
      ],
      "metadata": {
        "id": "NqxBgBYdj8eK",
        "colab": {
          "base_uri": "https://localhost:8080/"
        },
        "outputId": "2a41f56e-5d97-430a-c7f5-ede6dee74963"
      },
      "execution_count": 1,
      "outputs": [
        {
          "output_type": "stream",
          "name": "stdout",
          "text": [
            "['red', 'blue']\n"
          ]
        }
      ]
    },
    {
      "cell_type": "code",
      "execution_count": 6,
      "metadata": {
        "id": "bTE5WLn7j5ij",
        "colab": {
          "base_uri": "https://localhost:8080/"
        },
        "outputId": "063ba961-592d-4934-e0d4-dfc3588dfce0"
      },
      "outputs": [
        {
          "output_type": "stream",
          "name": "stdout",
          "text": [
            "['blue']\n",
            "['blue']\n",
            "['blue', 'yellow']\n"
          ]
        }
      ],
      "source": [
        "color_list=[\"red\",\"blue\",\"yellow\",\"green\"]\n",
        "\n",
        "print(color_list[1:2])\n",
        "\n",
        "print(color_list[1:-2])\n",
        "\n",
        "print(color_list[1:-1])"
      ]
    },
    {
      "cell_type": "code",
      "source": [
        "color_list=[\"red\",\"green\",\"blue\",\"yellow\"]\n",
        "\n",
        "print(color_list[:3])\n",
        "#will include 1st 3 items and will ommit 4th item\n"
      ],
      "metadata": {
        "colab": {
          "base_uri": "https://localhost:8080/"
        },
        "id": "GdOjMwcRyK67",
        "outputId": "4fb84868-9ff0-40d7-a9c6-b5428037a391"
      },
      "execution_count": 7,
      "outputs": [
        {
          "output_type": "stream",
          "name": "stdout",
          "text": [
            "['red', 'green', 'blue']\n"
          ]
        }
      ]
    },
    {
      "cell_type": "code",
      "source": [
        "color_list=[\"red\",\"green\",\"yellow\",\"blue\"]\n",
        "print(color_list[:])"
      ],
      "metadata": {
        "colab": {
          "base_uri": "https://localhost:8080/"
        },
        "id": "KsY9M6IkyK4T",
        "outputId": "2c3cdafd-e853-4ba6-8955-1d33161adc9b"
      },
      "execution_count": 8,
      "outputs": [
        {
          "output_type": "stream",
          "name": "stdout",
          "text": [
            "['red', 'green', 'yellow', 'blue']\n"
          ]
        }
      ]
    },
    {
      "cell_type": "markdown",
      "source": [
        "**Remove the item at the given position in the list and return it.**"
      ],
      "metadata": {
        "id": "7igYmKRVfgQ4"
      }
    },
    {
      "cell_type": "code",
      "source": [
        "color_list=[\"red\",\"blue\",\"green\",\"yellow\"]\n",
        "\n",
        "color_list.pop(1)\n",
        "#will remove \"blue\"\n",
        "print(color_list)\n",
        ""
      ],
      "metadata": {
        "colab": {
          "base_uri": "https://localhost:8080/"
        },
        "id": "L4ENpUyWyK1P",
        "outputId": "a871e2a5-0cd1-4e77-fa5c-19b564dd80ff"
      },
      "execution_count": 10,
      "outputs": [
        {
          "output_type": "stream",
          "name": "stdout",
          "text": [
            "['red', 'green', 'yellow']\n"
          ]
        }
      ]
    },
    {
      "cell_type": "markdown",
      "source": [
        "**Return the index in the list of first item whose value is x**"
      ],
      "metadata": {
        "id": "CEZbDCWUhoYM"
      }
    },
    {
      "cell_type": "code",
      "source": [
        "color_list=[\"red\",\"blue\",\"green\",\"yellow\"]\n",
        "\n",
        "print(color_list.index(\"red\"))\n",
        "\n",
        "print(color_list.index(\"yellow\"))"
      ],
      "metadata": {
        "colab": {
          "base_uri": "https://localhost:8080/"
        },
        "id": "3wHEvuCEyKyf",
        "outputId": "4de25730-5a19-4b7f-fb70-323b18fe5ea1"
      },
      "execution_count": 13,
      "outputs": [
        {
          "output_type": "stream",
          "name": "stdout",
          "text": [
            "0\n",
            "3\n"
          ]
        }
      ]
    },
    {
      "cell_type": "markdown",
      "source": [
        "**Return the number of times items appear in the list**"
      ],
      "metadata": {
        "id": "MBjPOWdajWko"
      }
    },
    {
      "cell_type": "code",
      "source": [
        "color_list=['red','red','red','green','green','yellow']\n",
        "\n",
        "print(color_list.count('red'))\n",
        "\n",
        "print(color_list.count('green'))\n"
      ],
      "metadata": {
        "colab": {
          "base_uri": "https://localhost:8080/"
        },
        "id": "VUUK9yi7yKwS",
        "outputId": "1562cc4f-8925-42f0-9b9a-7e9f7092df4a"
      },
      "execution_count": 16,
      "outputs": [
        {
          "output_type": "stream",
          "name": "stdout",
          "text": [
            "3\n",
            "2\n"
          ]
        }
      ]
    },
    {
      "cell_type": "markdown",
      "source": [
        "**Sort the items of the list in place**"
      ],
      "metadata": {
        "id": "7P2ysR5bkTsP"
      }
    },
    {
      "cell_type": "code",
      "source": [
        "color_list=['red','blue','green','black']\n",
        "\n",
        "color_list.sort(key=None,reverse=False)\n",
        "print(color_list)\n",
        "\n",
        "color_list=['red','blue','green','black']\n",
        "color_list.sort(key=None,reverse=True)\n",
        "print(color_list)"
      ],
      "metadata": {
        "colab": {
          "base_uri": "https://localhost:8080/"
        },
        "id": "AnkGOwr1yKtc",
        "outputId": "c0e24c94-9a51-44b3-dede-1d17cb487f1c"
      },
      "execution_count": 20,
      "outputs": [
        {
          "output_type": "stream",
          "name": "stdout",
          "text": [
            "['black', 'blue', 'green', 'red']\n",
            "['red', 'green', 'blue', 'black']\n"
          ]
        }
      ]
    },
    {
      "cell_type": "markdown",
      "source": [
        "**Return shallow copy of the list**"
      ],
      "metadata": {
        "id": "kjoV8xmxlVCs"
      }
    },
    {
      "cell_type": "code",
      "source": [
        "color_list=['red','green','blue','yellow','black']\n",
        "\n",
        "color_list1=color_list.copy()\n",
        "print(color_list1)"
      ],
      "metadata": {
        "colab": {
          "base_uri": "https://localhost:8080/"
        },
        "id": "0WNZbPMElUwa",
        "outputId": "bd12f66e-329f-4116-8443-ad209832b043"
      },
      "execution_count": 21,
      "outputs": [
        {
          "output_type": "stream",
          "name": "stdout",
          "text": [
            "['red', 'green', 'blue', 'yellow', 'black']\n"
          ]
        }
      ]
    },
    {
      "cell_type": "markdown",
      "source": [
        "**List are mutable**\n",
        "\n",
        "-->Items in the list are mutable i.e after creating a list you can change any items in the list"
      ],
      "metadata": {
        "id": "NxCXTqkxmeVn"
      }
    },
    {
      "cell_type": "code",
      "source": [
        "color_list=['red','blue','green','yellow']\n",
        "print(color_list)\n",
        "\n",
        "color_list[1]='orange'\n",
        "\n",
        "print(color_list)"
      ],
      "metadata": {
        "colab": {
          "base_uri": "https://localhost:8080/"
        },
        "id": "9NSeaGy8mZIV",
        "outputId": "34e52470-c9de-4ba9-ea68-002308de77d9"
      },
      "execution_count": 23,
      "outputs": [
        {
          "output_type": "stream",
          "name": "stdout",
          "text": [
            "['red', 'blue', 'green', 'yellow']\n",
            "['red', 'orange', 'green', 'yellow']\n"
          ]
        }
      ]
    },
    {
      "cell_type": "markdown",
      "source": [
        "**Convert list into tuple**"
      ],
      "metadata": {
        "id": "CFgrhnbXoQNl"
      }
    },
    {
      "cell_type": "code",
      "source": [
        "color_list=['red','blue','green','yellow']\n",
        "\n",
        "tup=tuple(color_list)\n",
        "print(tup)"
      ],
      "metadata": {
        "colab": {
          "base_uri": "https://localhost:8080/"
        },
        "id": "RgReI9v0mY-F",
        "outputId": "84053a7c-68e6-4c1c-eb2d-b80ab37fb707"
      },
      "execution_count": 24,
      "outputs": [
        {
          "output_type": "stream",
          "name": "stdout",
          "text": [
            "('red', 'blue', 'green', 'yellow')\n"
          ]
        }
      ]
    },
    {
      "cell_type": "markdown",
      "source": [
        "** Use of double colone {::}**"
      ],
      "metadata": {
        "id": "DGTWxsnVoc3w"
      }
    },
    {
      "cell_type": "code",
      "source": [
        "listx=[1,2,3,4,5,6,7]\n",
        "\n",
        "sublist=listx[0:6:2]\n",
        "#listx[start:stop:step]\n",
        "\n",
        "print(sublist)\n",
        "\n",
        "sublist1=listx[::3]\n",
        "#jump every 2 steps\n",
        "\n",
        "print(sublist1)\n",
        "\n",
        "sublist2=listx[6:2:-2]\n",
        "#start from 7 then 2 jumps value will be 5\n",
        "print(sublist2)"
      ],
      "metadata": {
        "colab": {
          "base_uri": "https://localhost:8080/"
        },
        "id": "OJhXh8CPmYxG",
        "outputId": "24725bb2-1c60-40eb-caf6-7ab626ef66d3"
      },
      "execution_count": 32,
      "outputs": [
        {
          "output_type": "stream",
          "name": "stdout",
          "text": [
            "[1, 3, 5]\n",
            "[1, 4, 7]\n",
            "[7, 5]\n"
          ]
        }
      ]
    },
    {
      "cell_type": "markdown",
      "source": [
        "**Find the smallest and largest items in a list**"
      ],
      "metadata": {
        "id": "8ttIl6WDxuiY"
      }
    },
    {
      "cell_type": "code",
      "source": [
        "listx=[5,7,8,9,10,11,13,17,18,32]\n",
        "\n",
        "print(min(listx))\n",
        "print(max(listx))"
      ],
      "metadata": {
        "colab": {
          "base_uri": "https://localhost:8080/"
        },
        "id": "MGRrws0AxsRb",
        "outputId": "7158fc60-7758-4e59-a3fc-841013a4b132"
      },
      "execution_count": 34,
      "outputs": [
        {
          "output_type": "stream",
          "name": "stdout",
          "text": [
            "5\n",
            "32\n"
          ]
        }
      ]
    },
    {
      "cell_type": "markdown",
      "source": [
        "**Compare two lists**"
      ],
      "metadata": {
        "id": "3d2NMfvU0HA2"
      }
    },
    {
      "cell_type": "code",
      "source": [
        "list_1=[1,2,3]\n",
        "list_2=[4,5,6]\n",
        "list_3=[1,4,5]\n",
        "list_4=[1,2,3]\n",
        "\n",
        "print(list_1==list_2)\n",
        "print(list_2==list_3)\n",
        "print(list_3==list_1)\n",
        "print(list_1==list_4)"
      ],
      "metadata": {
        "colab": {
          "base_uri": "https://localhost:8080/"
        },
        "id": "fgNcDzuXxsOn",
        "outputId": "f893ffe6-cf96-464c-854c-4d6ce7fcb641"
      },
      "execution_count": 39,
      "outputs": [
        {
          "output_type": "stream",
          "name": "stdout",
          "text": [
            "False\n",
            "False\n",
            "False\n",
            "True\n"
          ]
        }
      ]
    },
    {
      "cell_type": "markdown",
      "source": [
        "**Nested Lists**"
      ],
      "metadata": {
        "id": "iNUMRIzI0o84"
      }
    },
    {
      "cell_type": "code",
      "source": [
        "listx=[[\"Malav\",\"Joshi\"],[1,2,3,4.1,5.1]]\n",
        "\n",
        "print(listx[0][0])\n",
        "print(listx[0][1])\n",
        "\n",
        "listx.append([True,False])\n",
        "print(listx)\n",
        "\n",
        "#edit items in a list\n",
        "listx[1][3]=4\n",
        "print(listx)\n",
        "\n",
        "listx[1][4]=5\n",
        "print(listx)\n",
        "\n"
      ],
      "metadata": {
        "colab": {
          "base_uri": "https://localhost:8080/"
        },
        "id": "RvF8CeojxsLj",
        "outputId": "edf55241-0c23-4fd4-eac3-0bd0a689aebb"
      },
      "execution_count": 43,
      "outputs": [
        {
          "output_type": "stream",
          "name": "stdout",
          "text": [
            "Malav\n",
            "Joshi\n",
            "[['Malav', 'Joshi'], [1, 2, 3, 4.1, 5.1], [True, False]]\n",
            "[['Malav', 'Joshi'], [1, 2, 3, 4, 5.1], [True, False]]\n",
            "[['Malav', 'Joshi'], [1, 2, 3, 4, 5], [True, False]]\n"
          ]
        }
      ]
    },
    {
      "cell_type": "markdown",
      "source": [
        "**Get an index of an element**"
      ],
      "metadata": {
        "id": "N_JGUJWc2S2L"
      }
    },
    {
      "cell_type": "code",
      "source": [
        "listx=list(\"Malav Joshi\")\n",
        "print(listx)\n",
        "\n",
        "print(listx.index(\"J\"))\n",
        "\n",
        "#define the index from which you want to search\n",
        "print(listx.index(\"J\",3))\n",
        "\n",
        "#define the segment of the list to be searched\n",
        "print(listx.index(\"o\",5,9))"
      ],
      "metadata": {
        "colab": {
          "base_uri": "https://localhost:8080/"
        },
        "id": "lHgbOn3pxsIX",
        "outputId": "0d1258cc-f652-4d78-fb75-7ec666c2c5de"
      },
      "execution_count": 52,
      "outputs": [
        {
          "output_type": "stream",
          "name": "stdout",
          "text": [
            "['M', 'a', 'l', 'a', 'v', ' ', 'J', 'o', 's', 'h', 'i']\n",
            "6\n",
            "6\n",
            "7\n"
          ]
        }
      ]
    },
    {
      "cell_type": "markdown",
      "source": [
        "**Using lists as stacks**"
      ],
      "metadata": {
        "id": "18rtkrF34L2g"
      }
    },
    {
      "cell_type": "code",
      "source": [
        "color_list=['red','green','blue']\n",
        "print(color_list)\n",
        "\n",
        "color_list.append(\"yellow\")\n",
        "print(color_list)\n",
        "\n",
        "color_list.append(\"black\")\n",
        "print(color_list)\n",
        "\n",
        "color_list.pop()\n",
        "print(color_list)\n",
        "\n",
        "color_list.pop()\n",
        "print(color_list)"
      ],
      "metadata": {
        "colab": {
          "base_uri": "https://localhost:8080/"
        },
        "id": "RBFH7Dr5mYuA",
        "outputId": "4c3a9132-1ef4-4876-9ac6-fb405d31d086"
      },
      "execution_count": 59,
      "outputs": [
        {
          "output_type": "stream",
          "name": "stdout",
          "text": [
            "['red', 'green', 'blue']\n",
            "['red', 'green', 'blue', 'yellow']\n",
            "['red', 'green', 'blue', 'yellow', 'black']\n",
            "['red', 'green', 'blue', 'yellow']\n",
            "['red', 'green', 'blue']\n"
          ]
        }
      ]
    },
    {
      "cell_type": "markdown",
      "source": [
        "**Using lists as Queues**"
      ],
      "metadata": {
        "id": "BsRoC_q7535x"
      }
    },
    {
      "cell_type": "code",
      "source": [
        "from collections import deque\n",
        "\n",
        "color_list=deque(['red','blue','green'])\n",
        "print(color_list)\n",
        "\n",
        "color_list.append(\"yellow\")\n",
        "print(color_list)\n",
        "\n",
        "color_list.append(\"black\")\n",
        "print(color_list)\n",
        "\n",
        "color_list.popleft()\n",
        "#1st element will be removed\n",
        "print(color_list)\n",
        "\n",
        "color_list.popleft()\n",
        "print(color_list)\n",
        "\n"
      ],
      "metadata": {
        "colab": {
          "base_uri": "https://localhost:8080/"
        },
        "id": "Tp2qPhlZmX5x",
        "outputId": "9eb25029-1c0e-45e1-b2b4-bbcf1d4c0769"
      },
      "execution_count": 68,
      "outputs": [
        {
          "output_type": "stream",
          "name": "stdout",
          "text": [
            "deque(['red', 'blue', 'green'])\n",
            "deque(['red', 'blue', 'green', 'yellow'])\n",
            "deque(['red', 'blue', 'green', 'yellow', 'black'])\n",
            "deque(['blue', 'green', 'yellow', 'black'])\n",
            "deque(['green', 'yellow', 'black'])\n",
            "************************************\n",
            "['red', 'green', 'blue']\n"
          ]
        }
      ]
    }
  ]
}